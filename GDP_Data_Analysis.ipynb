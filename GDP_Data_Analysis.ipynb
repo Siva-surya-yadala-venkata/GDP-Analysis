{
 "cells": [
  {
   "cell_type": "markdown",
   "metadata": {},
   "source": [
    "# GDP Analysis(Data I-A)"
   ]
  },
  {
   "cell_type": "markdown",
   "metadata": {},
   "source": [
    "**NOTE: Input excel files are in same folder as my .ipynb file**"
   ]
  },
  {
   "cell_type": "code",
   "execution_count": 82,
   "metadata": {},
   "outputs": [],
   "source": [
    "# importing all the necesary libraries\n",
    "\n",
    "import numpy as np\n",
    "import pandas as pd\n",
    "import matplotlib.pyplot as plt\n",
    "import seaborn as sns\n",
    "import os"
   ]
  },
  {
   "cell_type": "code",
   "execution_count": 83,
   "metadata": {},
   "outputs": [],
   "source": [
    "# importing the dataset(Data I-A)\n",
    "# Dataset name: ab40c054-5031-4376-b52e-9813e776f65e.csv\n",
    "\n",
    "df1=pd.read_csv('ab40c054-5031-4376-b52e-9813e776f65e.csv',engine='python',encoding='utf-8')"
   ]
  },
  {
   "cell_type": "markdown",
   "metadata": {},
   "source": [
    "*****************************************Handling Missing Data*****************************************************************"
   ]
  },
  {
   "cell_type": "code",
   "execution_count": 84,
   "metadata": {},
   "outputs": [
    {
     "data": {
      "text/plain": [
       "0      1\n",
       "1      1\n",
       "2      1\n",
       "3      1\n",
       "4     10\n",
       "5     23\n",
       "6      1\n",
       "7      1\n",
       "8      1\n",
       "9     10\n",
       "10    23\n",
       "dtype: int64"
      ]
     },
     "execution_count": 84,
     "metadata": {},
     "output_type": "execute_result"
    }
   ],
   "source": [
    "# Index 5 and 10 having maximum numbers of null values.\n",
    "\n",
    "df1.isnull().sum(axis=1)\n"
   ]
  },
  {
   "cell_type": "code",
   "execution_count": 85,
   "metadata": {},
   "outputs": [
    {
     "data": {
      "text/plain": [
       "0     1\n",
       "1     1\n",
       "2     1\n",
       "3     1\n",
       "4    10\n",
       "6     1\n",
       "7     1\n",
       "8     1\n",
       "9    10\n",
       "dtype: int64"
      ]
     },
     "execution_count": 85,
     "metadata": {},
     "output_type": "execute_result"
    }
   ],
   "source": [
    "# Removing the rows(Index 5 and 10): '(% Growth over the previous year)'\n",
    "# and 'GSDP - CURRENT PRICES (` in Crore)' for the year 2016-17.\n",
    "\n",
    "sf=pd.concat([df1[0:5],df1[6:10]],axis=0)\n",
    "sf.isnull().sum(axis=1)"
   ]
  },
  {
   "cell_type": "code",
   "execution_count": 86,
   "metadata": {},
   "outputs": [
    {
     "data": {
      "text/html": [
       "<div>\n",
       "<style scoped>\n",
       "    .dataframe tbody tr th:only-of-type {\n",
       "        vertical-align: middle;\n",
       "    }\n",
       "\n",
       "    .dataframe tbody tr th {\n",
       "        vertical-align: top;\n",
       "    }\n",
       "\n",
       "    .dataframe thead th {\n",
       "        text-align: right;\n",
       "    }\n",
       "</style>\n",
       "<table border=\"1\" class=\"dataframe\">\n",
       "  <thead>\n",
       "    <tr style=\"text-align: right;\">\n",
       "      <th></th>\n",
       "      <th>West Bengal1</th>\n",
       "      <th>Uttarakhand</th>\n",
       "      <th>Uttar Pradesh</th>\n",
       "      <th>Tripura</th>\n",
       "      <th>Telangana</th>\n",
       "      <th>Tamil Nadu</th>\n",
       "      <th>Sikkim</th>\n",
       "      <th>Rajasthan</th>\n",
       "      <th>Punjab</th>\n",
       "      <th>Puducherry</th>\n",
       "      <th>...</th>\n",
       "      <th>Duration</th>\n",
       "      <th>Delhi</th>\n",
       "      <th>Chhattisgarh</th>\n",
       "      <th>Chandigarh</th>\n",
       "      <th>Bihar</th>\n",
       "      <th>Assam</th>\n",
       "      <th>Arunachal Pradesh</th>\n",
       "      <th>Andhra Pradesh</th>\n",
       "      <th>Andaman &amp; Nicobar Islands</th>\n",
       "      <th>All_India GDP</th>\n",
       "    </tr>\n",
       "  </thead>\n",
       "  <tbody>\n",
       "    <tr>\n",
       "      <th>0</th>\n",
       "      <td>NaN</td>\n",
       "      <td>115523.00</td>\n",
       "      <td>724049.00</td>\n",
       "      <td>19208.00</td>\n",
       "      <td>359433.00</td>\n",
       "      <td>751485.00</td>\n",
       "      <td>11165.00</td>\n",
       "      <td>436465.00</td>\n",
       "      <td>266628.00</td>\n",
       "      <td>16818.00</td>\n",
       "      <td>...</td>\n",
       "      <td>2011-12</td>\n",
       "      <td>343767.00</td>\n",
       "      <td>158074.00</td>\n",
       "      <td>18768.00</td>\n",
       "      <td>247144.00</td>\n",
       "      <td>143175.00</td>\n",
       "      <td>11063.00</td>\n",
       "      <td>379402.00</td>\n",
       "      <td>3979.00</td>\n",
       "      <td>8736039.00</td>\n",
       "    </tr>\n",
       "    <tr>\n",
       "      <th>1</th>\n",
       "      <td>NaN</td>\n",
       "      <td>131835.00</td>\n",
       "      <td>822903.00</td>\n",
       "      <td>21663.00</td>\n",
       "      <td>401493.00</td>\n",
       "      <td>855481.00</td>\n",
       "      <td>12338.00</td>\n",
       "      <td>494004.00</td>\n",
       "      <td>297734.00</td>\n",
       "      <td>18875.00</td>\n",
       "      <td>...</td>\n",
       "      <td>2012-13</td>\n",
       "      <td>391238.00</td>\n",
       "      <td>177511.00</td>\n",
       "      <td>21609.00</td>\n",
       "      <td>282368.00</td>\n",
       "      <td>156864.00</td>\n",
       "      <td>12547.00</td>\n",
       "      <td>411404.00</td>\n",
       "      <td>4421.00</td>\n",
       "      <td>9946636.00</td>\n",
       "    </tr>\n",
       "    <tr>\n",
       "      <th>2</th>\n",
       "      <td>NaN</td>\n",
       "      <td>149817.00</td>\n",
       "      <td>944146.00</td>\n",
       "      <td>25593.00</td>\n",
       "      <td>452186.00</td>\n",
       "      <td>971090.00</td>\n",
       "      <td>13862.00</td>\n",
       "      <td>549701.00</td>\n",
       "      <td>334714.00</td>\n",
       "      <td>21870.00</td>\n",
       "      <td>...</td>\n",
       "      <td>2013-14</td>\n",
       "      <td>443783.00</td>\n",
       "      <td>206690.00</td>\n",
       "      <td>24787.00</td>\n",
       "      <td>317101.00</td>\n",
       "      <td>177745.00</td>\n",
       "      <td>14602.00</td>\n",
       "      <td>464272.00</td>\n",
       "      <td>5159.00</td>\n",
       "      <td>11236635.00</td>\n",
       "    </tr>\n",
       "    <tr>\n",
       "      <th>3</th>\n",
       "      <td>NaN</td>\n",
       "      <td>161985.00</td>\n",
       "      <td>1043371.00</td>\n",
       "      <td>29667.00</td>\n",
       "      <td>511178.00</td>\n",
       "      <td>1092564.00</td>\n",
       "      <td>15209.00</td>\n",
       "      <td>612194.00</td>\n",
       "      <td>368011.00</td>\n",
       "      <td>24089.00</td>\n",
       "      <td>...</td>\n",
       "      <td>2014-15</td>\n",
       "      <td>492424.00</td>\n",
       "      <td>234982.00</td>\n",
       "      <td>27844.00</td>\n",
       "      <td>373920.00</td>\n",
       "      <td>198098.00</td>\n",
       "      <td>16761.00</td>\n",
       "      <td>526468.00</td>\n",
       "      <td>5721.00</td>\n",
       "      <td>12433749.00</td>\n",
       "    </tr>\n",
       "    <tr>\n",
       "      <th>4</th>\n",
       "      <td>NaN</td>\n",
       "      <td>184091.00</td>\n",
       "      <td>1153795.00</td>\n",
       "      <td>NaN</td>\n",
       "      <td>575631.00</td>\n",
       "      <td>1212668.00</td>\n",
       "      <td>16637.00</td>\n",
       "      <td>NaN</td>\n",
       "      <td>NaN</td>\n",
       "      <td>26533.00</td>\n",
       "      <td>...</td>\n",
       "      <td>2015-16</td>\n",
       "      <td>551963.00</td>\n",
       "      <td>260776.00</td>\n",
       "      <td>30304.00</td>\n",
       "      <td>413503.00</td>\n",
       "      <td>224234.00</td>\n",
       "      <td>18784.00</td>\n",
       "      <td>609934.00</td>\n",
       "      <td>NaN</td>\n",
       "      <td>13675331.00</td>\n",
       "    </tr>\n",
       "    <tr>\n",
       "      <th>6</th>\n",
       "      <td>NaN</td>\n",
       "      <td>14.12</td>\n",
       "      <td>13.65</td>\n",
       "      <td>12.78</td>\n",
       "      <td>11.70</td>\n",
       "      <td>13.84</td>\n",
       "      <td>10.51</td>\n",
       "      <td>13.18</td>\n",
       "      <td>11.67</td>\n",
       "      <td>12.23</td>\n",
       "      <td>...</td>\n",
       "      <td>2012-13</td>\n",
       "      <td>13.81</td>\n",
       "      <td>12.30</td>\n",
       "      <td>15.14</td>\n",
       "      <td>14.25</td>\n",
       "      <td>9.56</td>\n",
       "      <td>13.41</td>\n",
       "      <td>8.43</td>\n",
       "      <td>11.13</td>\n",
       "      <td>13.86</td>\n",
       "    </tr>\n",
       "    <tr>\n",
       "      <th>7</th>\n",
       "      <td>NaN</td>\n",
       "      <td>13.64</td>\n",
       "      <td>14.73</td>\n",
       "      <td>18.14</td>\n",
       "      <td>12.63</td>\n",
       "      <td>13.51</td>\n",
       "      <td>12.35</td>\n",
       "      <td>11.27</td>\n",
       "      <td>12.42</td>\n",
       "      <td>15.87</td>\n",
       "      <td>...</td>\n",
       "      <td>2013-14</td>\n",
       "      <td>13.43</td>\n",
       "      <td>16.44</td>\n",
       "      <td>14.71</td>\n",
       "      <td>12.30</td>\n",
       "      <td>13.31</td>\n",
       "      <td>16.38</td>\n",
       "      <td>12.85</td>\n",
       "      <td>16.68</td>\n",
       "      <td>12.97</td>\n",
       "    </tr>\n",
       "    <tr>\n",
       "      <th>8</th>\n",
       "      <td>NaN</td>\n",
       "      <td>8.12</td>\n",
       "      <td>10.51</td>\n",
       "      <td>15.92</td>\n",
       "      <td>13.05</td>\n",
       "      <td>12.51</td>\n",
       "      <td>9.72</td>\n",
       "      <td>11.37</td>\n",
       "      <td>9.95</td>\n",
       "      <td>10.14</td>\n",
       "      <td>...</td>\n",
       "      <td>2014-15</td>\n",
       "      <td>10.96</td>\n",
       "      <td>13.69</td>\n",
       "      <td>12.33</td>\n",
       "      <td>17.92</td>\n",
       "      <td>11.45</td>\n",
       "      <td>14.79</td>\n",
       "      <td>13.40</td>\n",
       "      <td>10.89</td>\n",
       "      <td>10.65</td>\n",
       "    </tr>\n",
       "    <tr>\n",
       "      <th>9</th>\n",
       "      <td>NaN</td>\n",
       "      <td>13.65</td>\n",
       "      <td>10.58</td>\n",
       "      <td>NaN</td>\n",
       "      <td>12.61</td>\n",
       "      <td>10.99</td>\n",
       "      <td>9.39</td>\n",
       "      <td>NaN</td>\n",
       "      <td>NaN</td>\n",
       "      <td>10.15</td>\n",
       "      <td>...</td>\n",
       "      <td>2015-16</td>\n",
       "      <td>12.09</td>\n",
       "      <td>10.98</td>\n",
       "      <td>8.84</td>\n",
       "      <td>10.59</td>\n",
       "      <td>13.19</td>\n",
       "      <td>12.07</td>\n",
       "      <td>15.85</td>\n",
       "      <td>NaN</td>\n",
       "      <td>9.99</td>\n",
       "    </tr>\n",
       "  </tbody>\n",
       "</table>\n",
       "<p>9 rows × 36 columns</p>\n",
       "</div>"
      ],
      "text/plain": [
       "   West Bengal1  Uttarakhand  Uttar Pradesh   Tripura  Telangana  Tamil Nadu  \\\n",
       "0           NaN    115523.00      724049.00  19208.00  359433.00   751485.00   \n",
       "1           NaN    131835.00      822903.00  21663.00  401493.00   855481.00   \n",
       "2           NaN    149817.00      944146.00  25593.00  452186.00   971090.00   \n",
       "3           NaN    161985.00     1043371.00  29667.00  511178.00  1092564.00   \n",
       "4           NaN    184091.00     1153795.00       NaN  575631.00  1212668.00   \n",
       "6           NaN        14.12          13.65     12.78      11.70       13.84   \n",
       "7           NaN        13.64          14.73     18.14      12.63       13.51   \n",
       "8           NaN         8.12          10.51     15.92      13.05       12.51   \n",
       "9           NaN        13.65          10.58       NaN      12.61       10.99   \n",
       "\n",
       "     Sikkim  Rajasthan     Punjab  Puducherry      ...        Duration  \\\n",
       "0  11165.00  436465.00  266628.00    16818.00      ...         2011-12   \n",
       "1  12338.00  494004.00  297734.00    18875.00      ...         2012-13   \n",
       "2  13862.00  549701.00  334714.00    21870.00      ...         2013-14   \n",
       "3  15209.00  612194.00  368011.00    24089.00      ...         2014-15   \n",
       "4  16637.00        NaN        NaN    26533.00      ...         2015-16   \n",
       "6     10.51      13.18      11.67       12.23      ...         2012-13   \n",
       "7     12.35      11.27      12.42       15.87      ...         2013-14   \n",
       "8      9.72      11.37       9.95       10.14      ...         2014-15   \n",
       "9      9.39        NaN        NaN       10.15      ...         2015-16   \n",
       "\n",
       "       Delhi  Chhattisgarh  Chandigarh      Bihar      Assam  \\\n",
       "0  343767.00     158074.00    18768.00  247144.00  143175.00   \n",
       "1  391238.00     177511.00    21609.00  282368.00  156864.00   \n",
       "2  443783.00     206690.00    24787.00  317101.00  177745.00   \n",
       "3  492424.00     234982.00    27844.00  373920.00  198098.00   \n",
       "4  551963.00     260776.00    30304.00  413503.00  224234.00   \n",
       "6      13.81         12.30       15.14      14.25       9.56   \n",
       "7      13.43         16.44       14.71      12.30      13.31   \n",
       "8      10.96         13.69       12.33      17.92      11.45   \n",
       "9      12.09         10.98        8.84      10.59      13.19   \n",
       "\n",
       "   Arunachal Pradesh  Andhra Pradesh   Andaman & Nicobar Islands  \\\n",
       "0           11063.00        379402.00                    3979.00   \n",
       "1           12547.00        411404.00                    4421.00   \n",
       "2           14602.00        464272.00                    5159.00   \n",
       "3           16761.00        526468.00                    5721.00   \n",
       "4           18784.00        609934.00                        NaN   \n",
       "6              13.41             8.43                      11.13   \n",
       "7              16.38            12.85                      16.68   \n",
       "8              14.79            13.40                      10.89   \n",
       "9              12.07            15.85                        NaN   \n",
       "\n",
       "   All_India GDP  \n",
       "0     8736039.00  \n",
       "1     9946636.00  \n",
       "2    11236635.00  \n",
       "3    12433749.00  \n",
       "4    13675331.00  \n",
       "6          13.86  \n",
       "7          12.97  \n",
       "8          10.65  \n",
       "9           9.99  \n",
       "\n",
       "[9 rows x 36 columns]"
      ]
     },
     "execution_count": 86,
     "metadata": {},
     "output_type": "execute_result"
    }
   ],
   "source": [
    "# Column \"West Bengal1\" is having null data\n",
    "\n",
    "sf.isnull().sum(axis=0)\n",
    "sf[sorted(sf.columns,reverse=True)]\n"
   ]
  },
  {
   "cell_type": "code",
   "execution_count": 87,
   "metadata": {},
   "outputs": [
    {
     "data": {
      "text/plain": [
       "0    0\n",
       "1    0\n",
       "2    0\n",
       "3    0\n",
       "4    9\n",
       "6    0\n",
       "7    0\n",
       "8    0\n",
       "9    9\n",
       "dtype: int64"
      ]
     },
     "execution_count": 87,
     "metadata": {},
     "output_type": "execute_result"
    }
   ],
   "source": [
    "# Removing the column=\"West Bengal1\" as it has all null values\n",
    "\n",
    "sf=sf.loc[:,~sf.columns.isin([\"West Bengal1\"])]\n",
    "sf.isnull().sum(axis=1)"
   ]
  },
  {
   "cell_type": "code",
   "execution_count": 88,
   "metadata": {},
   "outputs": [
    {
     "data": {
      "text/plain": [
       "0    0\n",
       "1    0\n",
       "2    0\n",
       "3    0\n",
       "4    0\n",
       "6    0\n",
       "7    0\n",
       "8    0\n",
       "9    0\n",
       "dtype: int64"
      ]
     },
     "execution_count": 88,
     "metadata": {},
     "output_type": "execute_result"
    }
   ],
   "source": [
    "# Removing the columns(States) which having null values for 2015-16 \n",
    "\n",
    "# As it is the best approach to get the data transformed without predicting any approximating values.\n",
    "\n",
    "sf=sf.loc[:,~sf.columns.isin([\"Himachal Pradesh\",'Maharashtra','Manipur','Mizoram',\n",
    "                              'Nagaland','Punjab','Rajasthan','Tripura','Andaman & Nicobar Islands'])]\n",
    "sf.isnull().sum(axis=1)"
   ]
  },
  {
   "cell_type": "code",
   "execution_count": 89,
   "metadata": {},
   "outputs": [
    {
     "name": "stdout",
     "output_type": "stream",
     "text": [
      "27.78 %\n"
     ]
    }
   ],
   "source": [
    "# We now have a dataframe with no missing values.\n",
    "\n",
    "# Let's finally look the observation at how much we have lost in the process:\n",
    "\n",
    "print(round(100-len(sf.columns)/len(df1.columns)*100,2),'%')"
   ]
  },
  {
   "cell_type": "markdown",
   "metadata": {},
   "source": [
    "So, we lost around 28% observations in cleaning the missing values which is affordable."
   ]
  },
  {
   "cell_type": "markdown",
   "metadata": {},
   "source": [
    "-----------------------------------------------------------------------------------------------------------------------"
   ]
  },
  {
   "cell_type": "code",
   "execution_count": 91,
   "metadata": {},
   "outputs": [
    {
     "data": {
      "text/html": [
       "<div>\n",
       "<style scoped>\n",
       "    .dataframe tbody tr th:only-of-type {\n",
       "        vertical-align: middle;\n",
       "    }\n",
       "\n",
       "    .dataframe tbody tr th {\n",
       "        vertical-align: top;\n",
       "    }\n",
       "\n",
       "    .dataframe thead th {\n",
       "        text-align: right;\n",
       "    }\n",
       "</style>\n",
       "<table border=\"1\" class=\"dataframe\">\n",
       "  <thead>\n",
       "    <tr style=\"text-align: right;\">\n",
       "      <th>Duration</th>\n",
       "      <th>2013-14</th>\n",
       "      <th>2014-15</th>\n",
       "      <th>2015-16</th>\n",
       "      <th>State</th>\n",
       "    </tr>\n",
       "    <tr>\n",
       "      <th>Index</th>\n",
       "      <th></th>\n",
       "      <th></th>\n",
       "      <th></th>\n",
       "      <th></th>\n",
       "    </tr>\n",
       "  </thead>\n",
       "  <tbody>\n",
       "    <tr>\n",
       "      <th>23</th>\n",
       "      <td>13.415</td>\n",
       "      <td>11.810</td>\n",
       "      <td>10.320</td>\n",
       "      <td>All_India GDP</td>\n",
       "    </tr>\n",
       "    <tr>\n",
       "      <th>0</th>\n",
       "      <td>10.640</td>\n",
       "      <td>13.125</td>\n",
       "      <td>14.625</td>\n",
       "      <td>Andhra Pradesh</td>\n",
       "    </tr>\n",
       "    <tr>\n",
       "      <th>1</th>\n",
       "      <td>14.895</td>\n",
       "      <td>15.585</td>\n",
       "      <td>13.430</td>\n",
       "      <td>Arunachal Pradesh</td>\n",
       "    </tr>\n",
       "    <tr>\n",
       "      <th>2</th>\n",
       "      <td>11.435</td>\n",
       "      <td>12.380</td>\n",
       "      <td>12.320</td>\n",
       "      <td>Assam</td>\n",
       "    </tr>\n",
       "    <tr>\n",
       "      <th>3</th>\n",
       "      <td>13.275</td>\n",
       "      <td>15.110</td>\n",
       "      <td>14.255</td>\n",
       "      <td>Bihar</td>\n",
       "    </tr>\n",
       "  </tbody>\n",
       "</table>\n",
       "</div>"
      ],
      "text/plain": [
       "Duration  2013-14  2014-15  2015-16              State\n",
       "Index                                                 \n",
       "23         13.415   11.810   10.320      All_India GDP\n",
       "0          10.640   13.125   14.625    Andhra Pradesh \n",
       "1          14.895   15.585   13.430  Arunachal Pradesh\n",
       "2          11.435   12.380   12.320              Assam\n",
       "3          13.275   15.110   14.255              Bihar"
      ]
     },
     "execution_count": 91,
     "metadata": {},
     "output_type": "execute_result"
    }
   ],
   "source": [
    "# calculating the average growth of states over duartion 2012-13, 2013-14,2014-15 and 2015-16\n",
    "# by \"moving average\"\n",
    "\n",
    "m_avg=sf.loc[6:,'Duration':]\n",
    "\n",
    "m_avg=m_avg.iloc[:,1:].rolling(window=2).mean() #rolling average calculating\n",
    "\n",
    "# Making appropriate transformation like creating index and sorting the values\n",
    "\n",
    "m_avg['Duration']=['2012-13','2013-14','2014-15','2015-16']\n",
    "m_avg=m_avg.iloc[1:]\n",
    "m_avg=m_avg.set_index('Duration',drop=True)\n",
    "m_avg=m_avg.T\n",
    "m_avg['Index']=range(len(m_avg))\n",
    "m_avg['State']=m_avg.index\n",
    "m_avg=m_avg.set_index('Index').sort_values(by='State')\n",
    "\n",
    "m_avg.head(5)\n",
    "\n"
   ]
  },
  {
   "cell_type": "code",
   "execution_count": 92,
   "metadata": {},
   "outputs": [
    {
     "data": {
      "text/html": [
       "<div>\n",
       "<style scoped>\n",
       "    .dataframe tbody tr th:only-of-type {\n",
       "        vertical-align: middle;\n",
       "    }\n",
       "\n",
       "    .dataframe tbody tr th {\n",
       "        vertical-align: top;\n",
       "    }\n",
       "\n",
       "    .dataframe thead th {\n",
       "        text-align: right;\n",
       "    }\n",
       "</style>\n",
       "<table border=\"1\" class=\"dataframe\">\n",
       "  <thead>\n",
       "    <tr style=\"text-align: right;\">\n",
       "      <th></th>\n",
       "      <th>Rolling_Average</th>\n",
       "      <th>State</th>\n",
       "      <th>Duration</th>\n",
       "    </tr>\n",
       "    <tr>\n",
       "      <th>Index</th>\n",
       "      <th></th>\n",
       "      <th></th>\n",
       "      <th></th>\n",
       "    </tr>\n",
       "  </thead>\n",
       "  <tbody>\n",
       "    <tr>\n",
       "      <th>5</th>\n",
       "      <td>-7.89</td>\n",
       "      <td>Goa</td>\n",
       "      <td>2013-14</td>\n",
       "    </tr>\n",
       "    <tr>\n",
       "      <th>13</th>\n",
       "      <td>7.34</td>\n",
       "      <td>Meghalaya</td>\n",
       "      <td>2013-14</td>\n",
       "    </tr>\n",
       "    <tr>\n",
       "      <th>0</th>\n",
       "      <td>10.64</td>\n",
       "      <td>Andhra Pradesh</td>\n",
       "      <td>2013-14</td>\n",
       "    </tr>\n",
       "    <tr>\n",
       "      <th>8</th>\n",
       "      <td>10.70</td>\n",
       "      <td>Jammu &amp; Kashmir</td>\n",
       "      <td>2013-14</td>\n",
       "    </tr>\n",
       "    <tr>\n",
       "      <th>15</th>\n",
       "      <td>11.43</td>\n",
       "      <td>Sikkim</td>\n",
       "      <td>2013-14</td>\n",
       "    </tr>\n",
       "  </tbody>\n",
       "</table>\n",
       "</div>"
      ],
      "text/plain": [
       "       Rolling_Average            State Duration\n",
       "Index                                           \n",
       "5                -7.89              Goa  2013-14\n",
       "13                7.34        Meghalaya  2013-14\n",
       "0                10.64  Andhra Pradesh   2013-14\n",
       "8                10.70  Jammu & Kashmir  2013-14\n",
       "15               11.43           Sikkim  2013-14"
      ]
     },
     "execution_count": 92,
     "metadata": {},
     "output_type": "execute_result"
    }
   ],
   "source": [
    "# Transfoming the dataframe into a catagorial view to plot\n",
    "\n",
    "gsdp=m_avg.append(m_avg.iloc[0:,1:],sort=False)\n",
    "gsdp.loc[np.isnan(gsdp['2013-14']),['2013-14']]=m_avg['2014-15']\n",
    "gsdp=gsdp.append(gsdp.iloc[0:,1:],sort=False)\n",
    "gsdp.loc[np.isnan(gsdp['2013-14']),['2013-14']]=m_avg['2015-16']\n",
    "gsdp=gsdp.iloc[0:,0::3]\n",
    "\n",
    "gsdp.columns=['Rolling_Average','State'] # Renaming the column names\n",
    "gsdp.drop_duplicates(subset = None, keep = 'first', inplace = True)  # removing duplicates\n",
    "\n",
    "# Updating the durations\n",
    "\n",
    "gsdp['Duration']=['2013-14' for i in range(len(gsdp))]\n",
    "gsdp.iloc[24:,2]='2014-15'\n",
    "gsdp.iloc[48:,2]='2015-17'\n",
    "\n",
    "gsdp['Rolling_Average']=gsdp['Rolling_Average'].apply(lambda x:round(x,2)) # rounding the decimal variables in 2\n",
    "gsdp.sort_values(by=['Duration','Rolling_Average'],ascending=True,inplace=True) # sorting\n",
    "\n",
    "gsdp.head(5)        "
   ]
  },
  {
   "cell_type": "code",
   "execution_count": 93,
   "metadata": {},
   "outputs": [
    {
     "data": {
      "image/png": "[encoded data removed]",
      "text/plain": [
       "<Figure size 1440x720 with 1 Axes>"
      ]
     },
     "metadata": {},
     "output_type": "display_data"
    }
   ],
   "source": [
    "# Now Plotting\n",
    "\n",
    "# Setting gridlines,context and size of the figure\n",
    "\n",
    "sns.set_style('whitegrid')\n",
    "sns.set_context('talk')\n",
    "plt.figure(figsize=(20,10))\n",
    "plt.rcParams[\"axes.labelsize\"] = 20\n",
    "plt.rcParams['axes.titlesize'] = 22\n",
    "plt.rcParams['axes.titlepad'] = 30\n",
    "\n",
    "# Using barplot for categorical visualisation\n",
    "\n",
    "sns.barplot(x='State',y='Rolling_Average',hue='Duration',data=gsdp,palette='tab10')\n",
    "plt.xticks(rotation=90)\n",
    "\n",
    "# Setting labels for x-axis, y-axis and title\n",
    "\n",
    "plt.xlabel('State')\n",
    "plt.ylabel('Average Growth(%)')\n",
    "plt.title(\"(%)Average growth of states\"' '\"(2013-14, 2014-15 and 2015-16)\")\n",
    "\n",
    "# Setting top and bottom value \n",
    "\n",
    "plt.ylim(top=20)\n",
    "plt.ylim(bottom=-10)\n",
    "\n",
    "# Executing\n",
    "\n",
    "plt.show()"
   ]
  },
  {
   "cell_type": "markdown",
   "metadata": {},
   "source": [
    "**Report: As we can see from above plot the states which are consistently growing fast are \"Goa\", \"Andhra Pradesh\".   \n",
    "        The struggling states in terms of growth are \"Madhya Pradesh\", \"Karnataka\", \"Haryana\" and \"Chandigarh\".**"
   ]
  },
  {
   "cell_type": "markdown",
   "metadata": {},
   "source": [
    "---------------------------"
   ]
  },
  {
   "cell_type": "markdown",
   "metadata": {},
   "source": [
    "**Curiosity exercise:**\n",
    "\n",
    "My home state: Data not available(West Bengal), so choosing random data for \"My home state\"\n",
    "\n",
    "My home state: \"Telangana\""
   ]
  },
  {
   "cell_type": "code",
   "execution_count": 94,
   "metadata": {},
   "outputs": [
    {
     "data": {
      "text/html": [
       "<div>\n",
       "<style scoped>\n",
       "    .dataframe tbody tr th:only-of-type {\n",
       "        vertical-align: middle;\n",
       "    }\n",
       "\n",
       "    .dataframe tbody tr th {\n",
       "        vertical-align: top;\n",
       "    }\n",
       "\n",
       "    .dataframe thead th {\n",
       "        text-align: right;\n",
       "    }\n",
       "</style>\n",
       "<table border=\"1\" class=\"dataframe\">\n",
       "  <thead>\n",
       "    <tr style=\"text-align: right;\">\n",
       "      <th>Duration</th>\n",
       "      <th>2013-14</th>\n",
       "      <th>2014-15</th>\n",
       "      <th>2015-16</th>\n",
       "      <th>State</th>\n",
       "    </tr>\n",
       "    <tr>\n",
       "      <th>Index</th>\n",
       "      <th></th>\n",
       "      <th></th>\n",
       "      <th></th>\n",
       "      <th></th>\n",
       "    </tr>\n",
       "  </thead>\n",
       "  <tbody>\n",
       "    <tr>\n",
       "      <th>17</th>\n",
       "      <td>12.165</td>\n",
       "      <td>12.84</td>\n",
       "      <td>12.83</td>\n",
       "      <td>Telangana</td>\n",
       "    </tr>\n",
       "  </tbody>\n",
       "</table>\n",
       "</div>"
      ],
      "text/plain": [
       "Duration  2013-14  2014-15  2015-16      State\n",
       "Index                                         \n",
       "17         12.165    12.84    12.83  Telangana"
      ]
     },
     "execution_count": 94,
     "metadata": {},
     "output_type": "execute_result"
    }
   ],
   "source": [
    "# Calculating average growth rate of Telangana state\n",
    "\n",
    "m_avg.loc[m_avg['State']=='Telangana']\n"
   ]
  },
  {
   "cell_type": "code",
   "execution_count": 95,
   "metadata": {},
   "outputs": [
    {
     "data": {
      "text/html": [
       "<div>\n",
       "<style scoped>\n",
       "    .dataframe tbody tr th:only-of-type {\n",
       "        vertical-align: middle;\n",
       "    }\n",
       "\n",
       "    .dataframe tbody tr th {\n",
       "        vertical-align: top;\n",
       "    }\n",
       "\n",
       "    .dataframe thead th {\n",
       "        text-align: right;\n",
       "    }\n",
       "</style>\n",
       "<table border=\"1\" class=\"dataframe\">\n",
       "  <thead>\n",
       "    <tr style=\"text-align: right;\">\n",
       "      <th></th>\n",
       "      <th>Rolling_Average</th>\n",
       "      <th>State</th>\n",
       "      <th>Duration</th>\n",
       "    </tr>\n",
       "    <tr>\n",
       "      <th>Index</th>\n",
       "      <th></th>\n",
       "      <th></th>\n",
       "      <th></th>\n",
       "    </tr>\n",
       "  </thead>\n",
       "  <tbody>\n",
       "    <tr>\n",
       "      <th>17</th>\n",
       "      <td>12.16</td>\n",
       "      <td>Telangana</td>\n",
       "      <td>2013-14</td>\n",
       "    </tr>\n",
       "    <tr>\n",
       "      <th>17</th>\n",
       "      <td>12.84</td>\n",
       "      <td>Telangana</td>\n",
       "      <td>2014-15</td>\n",
       "    </tr>\n",
       "    <tr>\n",
       "      <th>17</th>\n",
       "      <td>12.83</td>\n",
       "      <td>Telangana</td>\n",
       "      <td>2015-17</td>\n",
       "    </tr>\n",
       "    <tr>\n",
       "      <th>23</th>\n",
       "      <td>13.41</td>\n",
       "      <td>All_India GDP</td>\n",
       "      <td>2013-14</td>\n",
       "    </tr>\n",
       "    <tr>\n",
       "      <th>23</th>\n",
       "      <td>11.81</td>\n",
       "      <td>All_India GDP</td>\n",
       "      <td>2014-15</td>\n",
       "    </tr>\n",
       "    <tr>\n",
       "      <th>23</th>\n",
       "      <td>10.32</td>\n",
       "      <td>All_India GDP</td>\n",
       "      <td>2015-17</td>\n",
       "    </tr>\n",
       "  </tbody>\n",
       "</table>\n",
       "</div>"
      ],
      "text/plain": [
       "       Rolling_Average          State Duration\n",
       "Index                                         \n",
       "17               12.16      Telangana  2013-14\n",
       "17               12.84      Telangana  2014-15\n",
       "17               12.83      Telangana  2015-17\n",
       "23               13.41  All_India GDP  2013-14\n",
       "23               11.81  All_India GDP  2014-15\n",
       "23               10.32  All_India GDP  2015-17"
      ]
     },
     "execution_count": 95,
     "metadata": {},
     "output_type": "execute_result"
    }
   ],
   "source": [
    "# Comparing My home state with National average over duration(2013-14,2014-15,2015-16)\n",
    "\n",
    "# creating seperate dataframe\n",
    "\n",
    "n_avg=sf.loc[6:,'Duration':]\n",
    "\n",
    "n_avg=n_avg.iloc[:,1:].rolling(window=2).mean() # rolling average calculating\n",
    "\n",
    "# Updating the durations\n",
    "\n",
    "n_avg['Duration']=['2012-13','2013-14','2014-15','2015-16']\n",
    "n_avg=n_avg.iloc[1:]\n",
    "n_avg=n_avg.set_index('Duration',drop=True)\n",
    "n_avg=n_avg.T\n",
    "\n",
    "# Creating index and sorting\n",
    "\n",
    "n_avg['Index']=range(len(n_avg))\n",
    "n_avg['State']=n_avg.index\n",
    "n_avg=n_avg.set_index('Index')\n",
    "\n",
    "# Combining 'My home state' data with 'All India GDP'\n",
    "\n",
    "home_nat=pd.concat([gsdp.loc[m_avg['State']=='Telangana'],gsdp.loc[n_avg.State=='All_India GDP',:]],axis=0)\n",
    "\n",
    "home_nat\n"
   ]
  },
  {
   "cell_type": "code",
   "execution_count": 96,
   "metadata": {},
   "outputs": [
    {
     "data": {
      "image/png": "[encoded data removed]",
      "text/plain": [
       "<Figure size 1080x576 with 1 Axes>"
      ]
     },
     "metadata": {},
     "output_type": "display_data"
    }
   ],
   "source": [
    "# visualising by plotting a bar chart\n",
    "\n",
    "# Setting gridlines,context and size of the figure\n",
    "\n",
    "sns.set_style('whitegrid')\n",
    "sns.set_context('talk')\n",
    "plt.figure(figsize=(15,8))\n",
    "plt.rcParams[\"axes.labelsize\"] = 20\n",
    "plt.rcParams['axes.titlesize'] = 22\n",
    "plt.rcParams['axes.titlepad'] = 30\n",
    "\n",
    "# Using barplot for better visualisation\n",
    "\n",
    "sns.barplot(x='State',y='Rolling_Average',hue='Duration',data=home_nat,palette='gist_heat')\n",
    "\n",
    "# Setting labels for x-axis, y-axis and title\n",
    "\n",
    "plt.xlabel('State')\n",
    "plt.ylabel('Average Growth(%)')\n",
    "plt.title(\"Comparision (My home State vs All India GDP)\")\n",
    "\n",
    "# Setting top value \n",
    "\n",
    "plt.ylim(top=15)\n",
    "\n",
    "\n",
    "plt.show()\n"
   ]
  },
  {
   "cell_type": "markdown",
   "metadata": {},
   "source": [
    "**As you can see the average of My home state i.e. \"Telangana\" is having positive growth when compared to National Average(All_india GDP) which is having negative growth consistently.**"
   ]
  },
  {
   "cell_type": "markdown",
   "metadata": {},
   "source": [
    "---------------------------------------------------------------------------------------------------------------------------"
   ]
  },
  {
   "cell_type": "markdown",
   "metadata": {},
   "source": [
    "**Plotting Total GDP of the states for the year 2015-16**"
   ]
  },
  {
   "cell_type": "markdown",
   "metadata": {},
   "source": [
    "**Approach 1: By removing the columns which having null values for 2015-16 and plotting.**"
   ]
  },
  {
   "cell_type": "code",
   "execution_count": 97,
   "metadata": {},
   "outputs": [
    {
     "data": {
      "text/html": [
       "<div>\n",
       "<style scoped>\n",
       "    .dataframe tbody tr th:only-of-type {\n",
       "        vertical-align: middle;\n",
       "    }\n",
       "\n",
       "    .dataframe tbody tr th {\n",
       "        vertical-align: top;\n",
       "    }\n",
       "\n",
       "    .dataframe thead th {\n",
       "        text-align: right;\n",
       "    }\n",
       "</style>\n",
       "<table border=\"1\" class=\"dataframe\">\n",
       "  <thead>\n",
       "    <tr style=\"text-align: right;\">\n",
       "      <th></th>\n",
       "      <th>GSDP(`In Crores)</th>\n",
       "      <th>State</th>\n",
       "    </tr>\n",
       "    <tr>\n",
       "      <th>Index</th>\n",
       "      <th></th>\n",
       "      <th></th>\n",
       "    </tr>\n",
       "  </thead>\n",
       "  <tbody>\n",
       "    <tr>\n",
       "      <th>16</th>\n",
       "      <td>1212668</td>\n",
       "      <td>Tamil Nadu</td>\n",
       "    </tr>\n",
       "    <tr>\n",
       "      <th>18</th>\n",
       "      <td>1153795</td>\n",
       "      <td>Uttar Pradesh</td>\n",
       "    </tr>\n",
       "    <tr>\n",
       "      <th>10</th>\n",
       "      <td>1027068</td>\n",
       "      <td>Karnataka</td>\n",
       "    </tr>\n",
       "    <tr>\n",
       "      <th>6</th>\n",
       "      <td>994316</td>\n",
       "      <td>Gujarat</td>\n",
       "    </tr>\n",
       "    <tr>\n",
       "      <th>0</th>\n",
       "      <td>609934</td>\n",
       "      <td>Andhra Pradesh</td>\n",
       "    </tr>\n",
       "    <tr>\n",
       "      <th>11</th>\n",
       "      <td>588337</td>\n",
       "      <td>Kerala</td>\n",
       "    </tr>\n",
       "    <tr>\n",
       "      <th>17</th>\n",
       "      <td>575631</td>\n",
       "      <td>Telangana</td>\n",
       "    </tr>\n",
       "    <tr>\n",
       "      <th>21</th>\n",
       "      <td>551963</td>\n",
       "      <td>Delhi</td>\n",
       "    </tr>\n",
       "    <tr>\n",
       "      <th>12</th>\n",
       "      <td>543975</td>\n",
       "      <td>Madhya Pradesh</td>\n",
       "    </tr>\n",
       "    <tr>\n",
       "      <th>7</th>\n",
       "      <td>485184</td>\n",
       "      <td>Haryana</td>\n",
       "    </tr>\n",
       "    <tr>\n",
       "      <th>3</th>\n",
       "      <td>413503</td>\n",
       "      <td>Bihar</td>\n",
       "    </tr>\n",
       "    <tr>\n",
       "      <th>14</th>\n",
       "      <td>341887</td>\n",
       "      <td>Odisha</td>\n",
       "    </tr>\n",
       "    <tr>\n",
       "      <th>4</th>\n",
       "      <td>260776</td>\n",
       "      <td>Chhattisgarh</td>\n",
       "    </tr>\n",
       "    <tr>\n",
       "      <th>9</th>\n",
       "      <td>241955</td>\n",
       "      <td>Jharkhand</td>\n",
       "    </tr>\n",
       "    <tr>\n",
       "      <th>2</th>\n",
       "      <td>224234</td>\n",
       "      <td>Assam</td>\n",
       "    </tr>\n",
       "    <tr>\n",
       "      <th>19</th>\n",
       "      <td>184091</td>\n",
       "      <td>Uttarakhand</td>\n",
       "    </tr>\n",
       "    <tr>\n",
       "      <th>8</th>\n",
       "      <td>118387</td>\n",
       "      <td>Jammu &amp; Kashmir</td>\n",
       "    </tr>\n",
       "    <tr>\n",
       "      <th>5</th>\n",
       "      <td>45002</td>\n",
       "      <td>Goa</td>\n",
       "    </tr>\n",
       "    <tr>\n",
       "      <th>20</th>\n",
       "      <td>30304</td>\n",
       "      <td>Chandigarh</td>\n",
       "    </tr>\n",
       "    <tr>\n",
       "      <th>13</th>\n",
       "      <td>26745</td>\n",
       "      <td>Meghalaya</td>\n",
       "    </tr>\n",
       "    <tr>\n",
       "      <th>22</th>\n",
       "      <td>26533</td>\n",
       "      <td>Puducherry</td>\n",
       "    </tr>\n",
       "    <tr>\n",
       "      <th>1</th>\n",
       "      <td>18784</td>\n",
       "      <td>Arunachal Pradesh</td>\n",
       "    </tr>\n",
       "    <tr>\n",
       "      <th>15</th>\n",
       "      <td>16637</td>\n",
       "      <td>Sikkim</td>\n",
       "    </tr>\n",
       "  </tbody>\n",
       "</table>\n",
       "</div>"
      ],
      "text/plain": [
       "       GSDP(`In Crores)              State\n",
       "Index                                     \n",
       "16              1212668         Tamil Nadu\n",
       "18              1153795      Uttar Pradesh\n",
       "10              1027068          Karnataka\n",
       "6                994316            Gujarat\n",
       "0                609934    Andhra Pradesh \n",
       "11               588337             Kerala\n",
       "17               575631          Telangana\n",
       "21               551963              Delhi\n",
       "12               543975     Madhya Pradesh\n",
       "7                485184            Haryana\n",
       "3                413503              Bihar\n",
       "14               341887             Odisha\n",
       "4                260776       Chhattisgarh\n",
       "9                241955          Jharkhand\n",
       "2                224234              Assam\n",
       "19               184091        Uttarakhand\n",
       "8                118387    Jammu & Kashmir\n",
       "5                 45002                Goa\n",
       "20                30304         Chandigarh\n",
       "13                26745          Meghalaya\n",
       "22                26533         Puducherry\n",
       "1                 18784  Arunachal Pradesh\n",
       "15                16637             Sikkim"
      ]
     },
     "execution_count": 97,
     "metadata": {},
     "output_type": "execute_result"
    }
   ],
   "source": [
    "# Creating dataframe to plot GDP across states\n",
    "\n",
    "gdp=pd.concat([sf.iloc[4]],axis=1)\n",
    "gdp.columns=['GSDP(`In Crores)']\n",
    "\n",
    "# Creating index\n",
    "gdp['State']=gdp.index\n",
    "\n",
    "# Doing appropriate transformation like setting index and changing the datatype into int\n",
    "\n",
    "gdp=gdp.iloc[2:-1]\n",
    "gdp['Index']=range(len(gdp))\n",
    "gdp['GSDP(`In Crores)']=gdp['GSDP(`In Crores)'].apply(lambda x:int(x))\n",
    "gdp=gdp.set_index('Index',drop=True).sort_values(\"GSDP(`In Crores)\",ascending=False)\n",
    "gdp"
   ]
  },
  {
   "cell_type": "code",
   "execution_count": 98,
   "metadata": {},
   "outputs": [
    {
     "data": {
      "image/png": "[encoded data removed]",
      "text/plain": [
       "<Figure size 1080x720 with 1 Axes>"
      ]
     },
     "metadata": {},
     "output_type": "display_data"
    }
   ],
   "source": [
    "# Now Plotting\n",
    "\n",
    "# Setting gridlines,context and size of the figure\n",
    "\n",
    "sns.set_style(\"whitegrid\")\n",
    "sns.set_context('talk')\n",
    "plt.figure(figsize=(15,10))\n",
    "plt.rcParams[\"axes.labelsize\"] = 20\n",
    "plt.rcParams['axes.titlesize'] = 22\n",
    "plt.rcParams['axes.titlepad'] = 30\n",
    "\n",
    "# Using barplot for better visualisation\n",
    "\n",
    "sns.barplot(x='State',y='GSDP(`In Crores)',data=gdp,palette='nipy_spectral')\n",
    "plt.xticks(rotation=90)\n",
    "\n",
    "# Setting labels for x-axis, y-axis and title\n",
    "\n",
    "plt.xlabel(\"State\")\n",
    "plt.ylabel(\"GSDP (in crores)\")\n",
    "plt.title(\"GSDP (2015-16)\")\n",
    "\n",
    "# Setting top value \n",
    "plt.ylim(top=1400000)\n",
    "\n",
    "plt.show()\n"
   ]
  },
  {
   "cell_type": "markdown",
   "metadata": {},
   "source": [
    "**Report: Top-5 States=> \"Tamil Nadu\",\"Uttar Pradesh\",\"Karnataka\",\"Gujarat\" and \"Andhra Pradesh\"       \n",
    "        Bottom-5 States=> \"Sikkim\",\"Arunachal Pradesh\",\"Puducherry\",\"Meghalaya\" and \"Chandigarh\"**"
   ]
  },
  {
   "cell_type": "markdown",
   "metadata": {},
   "source": [
    "--------------"
   ]
  },
  {
   "cell_type": "markdown",
   "metadata": {},
   "source": [
    "**Approach 2 : By calculating a statistical measure from previous year('2012-13','2013-14','2014-15') and filling the null values for Item description 'GSDP - CURRENT PRICES (` in Crore)' in column '2015-16' and plotting**"
   ]
  },
  {
   "cell_type": "code",
   "execution_count": 99,
   "metadata": {},
   "outputs": [
    {
     "data": {
      "text/html": [
       "<div>\n",
       "<style scoped>\n",
       "    .dataframe tbody tr th:only-of-type {\n",
       "        vertical-align: middle;\n",
       "    }\n",
       "\n",
       "    .dataframe tbody tr th {\n",
       "        vertical-align: top;\n",
       "    }\n",
       "\n",
       "    .dataframe thead th {\n",
       "        text-align: right;\n",
       "    }\n",
       "</style>\n",
       "<table border=\"1\" class=\"dataframe\">\n",
       "  <thead>\n",
       "    <tr style=\"text-align: right;\">\n",
       "      <th></th>\n",
       "      <th>Duration</th>\n",
       "      <th>Andhra Pradesh</th>\n",
       "      <th>Arunachal Pradesh</th>\n",
       "      <th>Assam</th>\n",
       "      <th>Bihar</th>\n",
       "      <th>Chhattisgarh</th>\n",
       "      <th>Goa</th>\n",
       "      <th>Gujarat</th>\n",
       "      <th>Haryana</th>\n",
       "      <th>Himachal Pradesh</th>\n",
       "      <th>...</th>\n",
       "      <th>Sikkim</th>\n",
       "      <th>Tamil Nadu</th>\n",
       "      <th>Telangana</th>\n",
       "      <th>Tripura</th>\n",
       "      <th>Uttar Pradesh</th>\n",
       "      <th>Uttarakhand</th>\n",
       "      <th>Andaman &amp; Nicobar Islands</th>\n",
       "      <th>Chandigarh</th>\n",
       "      <th>Delhi</th>\n",
       "      <th>Puducherry</th>\n",
       "    </tr>\n",
       "  </thead>\n",
       "  <tbody>\n",
       "    <tr>\n",
       "      <th>0</th>\n",
       "      <td>2011-12</td>\n",
       "      <td>379402.0</td>\n",
       "      <td>11063.0</td>\n",
       "      <td>143175.0</td>\n",
       "      <td>247144.0</td>\n",
       "      <td>158074.0</td>\n",
       "      <td>42367.0</td>\n",
       "      <td>615606.0</td>\n",
       "      <td>297539.0</td>\n",
       "      <td>72720.0</td>\n",
       "      <td>...</td>\n",
       "      <td>11165.0</td>\n",
       "      <td>751485.0</td>\n",
       "      <td>359433.0</td>\n",
       "      <td>19208.0</td>\n",
       "      <td>724049.0</td>\n",
       "      <td>115523.0</td>\n",
       "      <td>3979.0</td>\n",
       "      <td>18768.0</td>\n",
       "      <td>343767.0</td>\n",
       "      <td>16818.0</td>\n",
       "    </tr>\n",
       "    <tr>\n",
       "      <th>1</th>\n",
       "      <td>2012-13</td>\n",
       "      <td>411404.0</td>\n",
       "      <td>12547.0</td>\n",
       "      <td>156864.0</td>\n",
       "      <td>282368.0</td>\n",
       "      <td>177511.0</td>\n",
       "      <td>38120.0</td>\n",
       "      <td>724495.0</td>\n",
       "      <td>347032.0</td>\n",
       "      <td>82820.0</td>\n",
       "      <td>...</td>\n",
       "      <td>12338.0</td>\n",
       "      <td>855481.0</td>\n",
       "      <td>401493.0</td>\n",
       "      <td>21663.0</td>\n",
       "      <td>822903.0</td>\n",
       "      <td>131835.0</td>\n",
       "      <td>4421.0</td>\n",
       "      <td>21609.0</td>\n",
       "      <td>391238.0</td>\n",
       "      <td>18875.0</td>\n",
       "    </tr>\n",
       "    <tr>\n",
       "      <th>2</th>\n",
       "      <td>2013-14</td>\n",
       "      <td>464272.0</td>\n",
       "      <td>14602.0</td>\n",
       "      <td>177745.0</td>\n",
       "      <td>317101.0</td>\n",
       "      <td>206690.0</td>\n",
       "      <td>35921.0</td>\n",
       "      <td>807623.0</td>\n",
       "      <td>400662.0</td>\n",
       "      <td>94764.0</td>\n",
       "      <td>...</td>\n",
       "      <td>13862.0</td>\n",
       "      <td>971090.0</td>\n",
       "      <td>452186.0</td>\n",
       "      <td>25593.0</td>\n",
       "      <td>944146.0</td>\n",
       "      <td>149817.0</td>\n",
       "      <td>5159.0</td>\n",
       "      <td>24787.0</td>\n",
       "      <td>443783.0</td>\n",
       "      <td>21870.0</td>\n",
       "    </tr>\n",
       "    <tr>\n",
       "      <th>3</th>\n",
       "      <td>2014-15</td>\n",
       "      <td>526468.0</td>\n",
       "      <td>16761.0</td>\n",
       "      <td>198098.0</td>\n",
       "      <td>373920.0</td>\n",
       "      <td>234982.0</td>\n",
       "      <td>40633.0</td>\n",
       "      <td>895027.0</td>\n",
       "      <td>437462.0</td>\n",
       "      <td>104369.0</td>\n",
       "      <td>...</td>\n",
       "      <td>15209.0</td>\n",
       "      <td>1092564.0</td>\n",
       "      <td>511178.0</td>\n",
       "      <td>29667.0</td>\n",
       "      <td>1043371.0</td>\n",
       "      <td>161985.0</td>\n",
       "      <td>5721.0</td>\n",
       "      <td>27844.0</td>\n",
       "      <td>492424.0</td>\n",
       "      <td>24089.0</td>\n",
       "    </tr>\n",
       "    <tr>\n",
       "      <th>4</th>\n",
       "      <td>2015-16</td>\n",
       "      <td>609934.0</td>\n",
       "      <td>18784.0</td>\n",
       "      <td>224234.0</td>\n",
       "      <td>413503.0</td>\n",
       "      <td>260776.0</td>\n",
       "      <td>45002.0</td>\n",
       "      <td>994316.0</td>\n",
       "      <td>485184.0</td>\n",
       "      <td>NaN</td>\n",
       "      <td>...</td>\n",
       "      <td>16637.0</td>\n",
       "      <td>1212668.0</td>\n",
       "      <td>575631.0</td>\n",
       "      <td>NaN</td>\n",
       "      <td>1153795.0</td>\n",
       "      <td>184091.0</td>\n",
       "      <td>NaN</td>\n",
       "      <td>30304.0</td>\n",
       "      <td>551963.0</td>\n",
       "      <td>26533.0</td>\n",
       "    </tr>\n",
       "  </tbody>\n",
       "</table>\n",
       "<p>5 rows × 33 columns</p>\n",
       "</div>"
      ],
      "text/plain": [
       "  Duration  Andhra Pradesh   Arunachal Pradesh     Assam     Bihar  \\\n",
       "0  2011-12         379402.0            11063.0  143175.0  247144.0   \n",
       "1  2012-13         411404.0            12547.0  156864.0  282368.0   \n",
       "2  2013-14         464272.0            14602.0  177745.0  317101.0   \n",
       "3  2014-15         526468.0            16761.0  198098.0  373920.0   \n",
       "4  2015-16         609934.0            18784.0  224234.0  413503.0   \n",
       "\n",
       "   Chhattisgarh      Goa   Gujarat   Haryana  Himachal Pradesh     ...      \\\n",
       "0      158074.0  42367.0  615606.0  297539.0           72720.0     ...       \n",
       "1      177511.0  38120.0  724495.0  347032.0           82820.0     ...       \n",
       "2      206690.0  35921.0  807623.0  400662.0           94764.0     ...       \n",
       "3      234982.0  40633.0  895027.0  437462.0          104369.0     ...       \n",
       "4      260776.0  45002.0  994316.0  485184.0               NaN     ...       \n",
       "\n",
       "    Sikkim  Tamil Nadu  Telangana  Tripura  Uttar Pradesh  Uttarakhand  \\\n",
       "0  11165.0    751485.0   359433.0  19208.0       724049.0     115523.0   \n",
       "1  12338.0    855481.0   401493.0  21663.0       822903.0     131835.0   \n",
       "2  13862.0    971090.0   452186.0  25593.0       944146.0     149817.0   \n",
       "3  15209.0   1092564.0   511178.0  29667.0      1043371.0     161985.0   \n",
       "4  16637.0   1212668.0   575631.0      NaN      1153795.0     184091.0   \n",
       "\n",
       "   Andaman & Nicobar Islands  Chandigarh     Delhi  Puducherry  \n",
       "0                     3979.0     18768.0  343767.0     16818.0  \n",
       "1                     4421.0     21609.0  391238.0     18875.0  \n",
       "2                     5159.0     24787.0  443783.0     21870.0  \n",
       "3                     5721.0     27844.0  492424.0     24089.0  \n",
       "4                        NaN     30304.0  551963.0     26533.0  \n",
       "\n",
       "[5 rows x 33 columns]"
      ]
     },
     "execution_count": 99,
     "metadata": {},
     "output_type": "execute_result"
    }
   ],
   "source": [
    "# Removing the rows(Index 5 and 10): '(% Growth over the previous year)'\n",
    "# and 'GSDP - CURRENT PRICES (` in Crore)' for the year 2016-17.\n",
    "# and column 'West Bengal1' as all the data is null and 'All India GDP' column as well since we will deal with the states\n",
    "\n",
    "df=df1\n",
    "df=pd.concat([df1[0:5],df1[6:10]],axis=0)\n",
    "df.isnull().sum(axis=1)\n",
    "df=df.loc[:,~df.columns.isin(['West Bengal1','All_India GDP'])]\n",
    "\n",
    "# Selecting only the Item description 'GSDP - CURRENT PRICES (` in Crore)' \n",
    "\n",
    "df=df.iloc[:5,1:]\n",
    "df.head(5)"
   ]
  },
  {
   "cell_type": "code",
   "execution_count": 100,
   "metadata": {},
   "outputs": [
    {
     "data": {
      "text/plain": [
       "Duration                     0\n",
       "Andhra Pradesh               0\n",
       "Arunachal Pradesh            0\n",
       "Assam                        0\n",
       "Bihar                        0\n",
       "Chhattisgarh                 0\n",
       "Goa                          0\n",
       "Gujarat                      0\n",
       "Haryana                      0\n",
       "Himachal Pradesh             1\n",
       "Jammu & Kashmir              0\n",
       "Jharkhand                    0\n",
       "Karnataka                    0\n",
       "Kerala                       0\n",
       "Madhya Pradesh               0\n",
       "Maharashtra                  1\n",
       "Manipur                      1\n",
       "Meghalaya                    0\n",
       "Mizoram                      1\n",
       "Nagaland                     1\n",
       "Odisha                       0\n",
       "Punjab                       1\n",
       "Rajasthan                    1\n",
       "Sikkim                       0\n",
       "Tamil Nadu                   0\n",
       "Telangana                    0\n",
       "Tripura                      1\n",
       "Uttar Pradesh                0\n",
       "Uttarakhand                  0\n",
       "Andaman & Nicobar Islands    1\n",
       "Chandigarh                   0\n",
       "Delhi                        0\n",
       "Puducherry                   0\n",
       "dtype: int64"
      ]
     },
     "execution_count": 100,
     "metadata": {},
     "output_type": "execute_result"
    }
   ],
   "source": [
    "df.isnull().sum()"
   ]
  },
  {
   "cell_type": "markdown",
   "metadata": {},
   "source": [
    " So, states which are having null values are 'Himachal Pradesh', 'Maharashtra', 'Manipur', 'Mizoram' , 'Nagaland',\n",
    "     'Punjab', 'Rajasthan', 'Tripura' and 'Andaman & Nicobar Islands'."
   ]
  },
  {
   "cell_type": "code",
   "execution_count": 101,
   "metadata": {},
   "outputs": [
    {
     "data": {
      "text/plain": [
       "count         4.000000\n",
       "mean      88668.250000\n",
       "std       13810.870414\n",
       "min       72720.000000\n",
       "25%       80295.000000\n",
       "50%       88792.000000\n",
       "75%       97165.250000\n",
       "max      104369.000000\n",
       "Name: Himachal Pradesh, dtype: float64"
      ]
     },
     "execution_count": 101,
     "metadata": {},
     "output_type": "execute_result"
    }
   ],
   "source": [
    "df.loc[:,'Himachal Pradesh'].describe()"
   ]
  },
  {
   "cell_type": "markdown",
   "metadata": {},
   "source": [
    "As the Item 'GSDP - CURRENT PRICES (` in Crore`) values are incremental from duartion '2011-12' to '2014-15' for all states hence from the above describe table(reference taken from one state) we can see that the std value is ideal for this to fill the null values with the sum of the standard deviation and from latest duartion i.e. '2014-15'"
   ]
  },
  {
   "cell_type": "code",
   "execution_count": 102,
   "metadata": {},
   "outputs": [],
   "source": [
    "# Filing null values \n",
    "\n",
    "df.loc[:,'Himachal Pradesh']=df.loc[:,'Himachal Pradesh'].fillna(df.loc[3,'Himachal Pradesh']+df.loc[:,'Himachal Pradesh'].std())\n",
    "df.loc[:,'Maharashtra']=df.loc[:,'Maharashtra'].fillna(df.loc[3,'Maharashtra']+df.loc[:,'Maharashtra'].std())\n",
    "df.loc[:,'Manipur']=df.loc[:,'Manipur'].fillna(df.loc[3,'Manipur']+df.loc[:,'Manipur'].std())\n",
    "df.loc[:,'Mizoram']=df.loc[:,'Mizoram'].fillna(df.loc[3,'Mizoram']+df.loc[:,'Mizoram'].std())\n",
    "df.loc[:,'Nagaland']=df.loc[:,'Nagaland'].fillna(df.loc[3,'Nagaland']+df.loc[:,'Nagaland'].std())\n",
    "df.loc[:,'Punjab']=df.loc[:,'Punjab'].fillna(df.loc[3,'Punjab']+df.loc[:,'Punjab'].std())\n",
    "df.loc[:,'Rajasthan']=df.loc[:,'Rajasthan'].fillna(df.loc[3,'Rajasthan']+df.loc[:,'Rajasthan'].std())\n",
    "df.loc[:,'Tripura']=df.loc[:,'Tripura'].fillna(df.loc[3,'Tripura']+df.loc[:,'Tripura'].std())\n",
    "df.loc[:,'Andaman & Nicobar Islands']=df.loc[:,'Andaman & Nicobar Islands'].fillna(df.loc[3,'Andaman & Nicobar Islands']+df.loc[:,'Andaman & Nicobar Islands'].std())"
   ]
  },
  {
   "cell_type": "code",
   "execution_count": 103,
   "metadata": {},
   "outputs": [
    {
     "data": {
      "text/html": [
       "<div>\n",
       "<style scoped>\n",
       "    .dataframe tbody tr th:only-of-type {\n",
       "        vertical-align: middle;\n",
       "    }\n",
       "\n",
       "    .dataframe tbody tr th {\n",
       "        vertical-align: top;\n",
       "    }\n",
       "\n",
       "    .dataframe thead th {\n",
       "        text-align: right;\n",
       "    }\n",
       "</style>\n",
       "<table border=\"1\" class=\"dataframe\">\n",
       "  <thead>\n",
       "    <tr style=\"text-align: right;\">\n",
       "      <th></th>\n",
       "      <th>GSDP(`In Crores)</th>\n",
       "      <th>State</th>\n",
       "    </tr>\n",
       "    <tr>\n",
       "      <th>Index</th>\n",
       "      <th></th>\n",
       "      <th></th>\n",
       "    </tr>\n",
       "  </thead>\n",
       "  <tbody>\n",
       "    <tr>\n",
       "      <th>13</th>\n",
       "      <td>2019284</td>\n",
       "      <td>Maharashtra</td>\n",
       "    </tr>\n",
       "    <tr>\n",
       "      <th>22</th>\n",
       "      <td>1212668</td>\n",
       "      <td>Tamil Nadu</td>\n",
       "    </tr>\n",
       "    <tr>\n",
       "      <th>25</th>\n",
       "      <td>1153795</td>\n",
       "      <td>Uttar Pradesh</td>\n",
       "    </tr>\n",
       "    <tr>\n",
       "      <th>10</th>\n",
       "      <td>1027068</td>\n",
       "      <td>Karnataka</td>\n",
       "    </tr>\n",
       "    <tr>\n",
       "      <th>5</th>\n",
       "      <td>994316</td>\n",
       "      <td>Gujarat</td>\n",
       "    </tr>\n",
       "  </tbody>\n",
       "</table>\n",
       "</div>"
      ],
      "text/plain": [
       "       GSDP(`In Crores)          State\n",
       "Index                                 \n",
       "13              2019284    Maharashtra\n",
       "22              1212668     Tamil Nadu\n",
       "25              1153795  Uttar Pradesh\n",
       "10              1027068      Karnataka\n",
       "5                994316        Gujarat"
      ]
     },
     "execution_count": 103,
     "metadata": {},
     "output_type": "execute_result"
    }
   ],
   "source": [
    "df=pd.concat([df.iloc[4]],axis=1)\n",
    "df=pd.concat([df.iloc[2:-1,]],axis=1)\n",
    "df.columns=['GSDP(`In Crores)']\n",
    "\n",
    "# Creating index\n",
    "df['State']=df.index\n",
    "\n",
    "# Doing appropriate transformation like setting index and changing the datatype into int\n",
    "\n",
    "df['Index']=range(len(df))\n",
    "df=df.set_index('Index',drop=True).sort_values(\"GSDP(`In Crores)\",ascending=False)\n",
    "df['GSDP(`In Crores)']=df['GSDP(`In Crores)'].apply(lambda x:int(x))\n",
    "df.head(5)"
   ]
  },
  {
   "cell_type": "code",
   "execution_count": 104,
   "metadata": {},
   "outputs": [
    {
     "data": {
      "image/png": "[encoded data removed]",
      "text/plain": [
       "<Figure size 1080x720 with 1 Axes>"
      ]
     },
     "metadata": {},
     "output_type": "display_data"
    }
   ],
   "source": [
    "# Now Plotting\n",
    "\n",
    "# Setting gridlines,context and size of the figure\n",
    "\n",
    "sns.set_style(\"whitegrid\")\n",
    "sns.set_context('talk')\n",
    "plt.figure(figsize=(15,10))\n",
    "plt.rcParams[\"axes.labelsize\"] = 20\n",
    "plt.rcParams['axes.titlesize'] = 22\n",
    "plt.rcParams['axes.titlepad'] = 30\n",
    "\n",
    "# Using barplot for better visualisation\n",
    "\n",
    "sns.barplot(x='State',y='GSDP(`In Crores)',data=df,palette='nipy_spectral')\n",
    "plt.xticks(rotation=90)\n",
    "\n",
    "# Setting labels for x-axis, y-axis and title\n",
    "\n",
    "plt.xlabel(\"State\")\n",
    "plt.ylabel(\"GSDP (in crores)\")\n",
    "plt.title(\"GSDP (2015-16)\")\n",
    "\n",
    "# Setting top value \n",
    "plt.ylim(top=2500000)\n",
    "\n",
    "plt.show()\n"
   ]
  },
  {
   "cell_type": "markdown",
   "metadata": {},
   "source": [
    "**Report: Top-5 States=>** \"Maharasthra\", \"Tamil Nadu\", \"Uttar Pradesh\", \"Karnataka\" and \"Gujarat\"              \n",
    "**Bottom-5 States=>** \"Andaman & Nicobar Islands\", \"Mizoram\", \"Sikkim\", \"Arunachal Pradesh\" and \"Manipur\""
   ]
  },
  {
   "cell_type": "markdown",
   "metadata": {},
   "source": [
    "**As we can see there is a difference between \" Approach 1\" and \" Approach 2\" in Top-5 States and Bottom-5 States**"
   ]
  },
  {
   "cell_type": "markdown",
   "metadata": {},
   "source": [
    "**------------------------------------------------------------------------------------------------------------------------------------------------------------------------------------------------------------------**"
   ]
  },
  {
   "cell_type": "markdown",
   "metadata": {},
   "source": [
    "# Data Analysis(Data I-B)"
   ]
  },
  {
   "cell_type": "markdown",
   "metadata": {},
   "source": [
    "**As mentioned at the top of this notebook, \n",
    "  Input files are in same folder as my .ipynb file**"
   ]
  },
  {
   "cell_type": "code",
   "execution_count": 105,
   "metadata": {},
   "outputs": [
    {
     "data": {
      "text/html": [
       "<div>\n",
       "<style scoped>\n",
       "    .dataframe tbody tr th:only-of-type {\n",
       "        vertical-align: middle;\n",
       "    }\n",
       "\n",
       "    .dataframe tbody tr th {\n",
       "        vertical-align: top;\n",
       "    }\n",
       "\n",
       "    .dataframe thead th {\n",
       "        text-align: right;\n",
       "    }\n",
       "</style>\n",
       "<table border=\"1\" class=\"dataframe\">\n",
       "  <thead>\n",
       "    <tr style=\"text-align: right;\">\n",
       "      <th></th>\n",
       "      <th>S.No.</th>\n",
       "      <th>Item</th>\n",
       "      <th>2014-15</th>\n",
       "      <th>State</th>\n",
       "    </tr>\n",
       "  </thead>\n",
       "  <tbody>\n",
       "    <tr>\n",
       "      <th>0</th>\n",
       "      <td>1</td>\n",
       "      <td>Agriculture, forestry and fishing</td>\n",
       "      <td>14819416.0</td>\n",
       "      <td>Andhra_Pradesh</td>\n",
       "    </tr>\n",
       "    <tr>\n",
       "      <th>1</th>\n",
       "      <td>1.1</td>\n",
       "      <td>Crops</td>\n",
       "      <td>7893514.0</td>\n",
       "      <td>Andhra_Pradesh</td>\n",
       "    </tr>\n",
       "    <tr>\n",
       "      <th>2</th>\n",
       "      <td>1.2</td>\n",
       "      <td>Livestock</td>\n",
       "      <td>4309078.0</td>\n",
       "      <td>Andhra_Pradesh</td>\n",
       "    </tr>\n",
       "    <tr>\n",
       "      <th>3</th>\n",
       "      <td>1.3</td>\n",
       "      <td>Forestry and logging</td>\n",
       "      <td>346160.0</td>\n",
       "      <td>Andhra_Pradesh</td>\n",
       "    </tr>\n",
       "    <tr>\n",
       "      <th>4</th>\n",
       "      <td>1.4</td>\n",
       "      <td>Fishing and aquaculture</td>\n",
       "      <td>2270664.0</td>\n",
       "      <td>Andhra_Pradesh</td>\n",
       "    </tr>\n",
       "  </tbody>\n",
       "</table>\n",
       "</div>"
      ],
      "text/plain": [
       "  S.No.                               Item     2014-15           State\n",
       "0     1  Agriculture, forestry and fishing  14819416.0  Andhra_Pradesh\n",
       "1   1.1                              Crops   7893514.0  Andhra_Pradesh\n",
       "2   1.2                          Livestock   4309078.0  Andhra_Pradesh\n",
       "3   1.3               Forestry and logging    346160.0  Andhra_Pradesh\n",
       "4   1.4            Fishing and aquaculture   2270664.0  Andhra_Pradesh"
      ]
     },
     "execution_count": 105,
     "metadata": {},
     "output_type": "execute_result"
    }
   ],
   "source": [
    "# Merging all Data I-B csv files into one dataframe and retaining only for the duartion: 2014-15\n",
    "\n",
    "# Taking all the files from current working directory\n",
    "\n",
    "files=os.listdir(os.getcwd())\n",
    "\n",
    "concated=[]\n",
    "\n",
    "# Appending all the Data I-B related files into one dataframe\n",
    "\n",
    "for i in files:\n",
    "    if i.find(\"GSVA\")>0 and i.find(\".csv\")>0:\n",
    "        gsva=pd.read_csv(i,engine='python',encoding='ISO-8859-1')\n",
    "        gsva[\"State\"]=i.split('-')[1] # Adding State column for each dataset\n",
    "        concated.append(gsva)\n",
    "\n",
    "# Converting the list into Dataframe\n",
    "\n",
    "gsva_2=pd.concat(concated,sort=False)\n",
    "\n",
    "# Retaining the data only for the duration : 2014-15\n",
    "\n",
    "gsva_2=gsva_2.loc[:,~gsva_2.columns.isin(['2011-12','2012-13','2013-14','2015-16','2016-17'])]\n",
    "\n",
    "gsva_2.head()\n"
   ]
  },
  {
   "cell_type": "code",
   "execution_count": 106,
   "metadata": {},
   "outputs": [
    {
     "data": {
      "text/plain": [
       "{'Chandigarh', 'Delhi', 'Puducherry'}"
      ]
     },
     "execution_count": 106,
     "metadata": {},
     "output_type": "execute_result"
    }
   ],
   "source": [
    "# Filtering Union territories\n",
    "\n",
    "gsva_1=gsva_2\n",
    "union_territory=['Delhi','Chandigarh','Puducherry','Andaman and Nicobar Islands',\n",
    "            'Daman and Diu','Dadra and Nagar Haveli','Lakshadweep']\n",
    "count=[]\n",
    "for un in gsva_1.State:\n",
    "    if un in union_territory:\n",
    "        count.append(un)\n",
    "        \n",
    "set(count)       \n"
   ]
  },
  {
   "cell_type": "markdown",
   "metadata": {},
   "source": [
    "As we can see three Union territories('Chandigarh', 'Delhi', 'Puducherry') were present in the dataframe which needs to be filtered out."
   ]
  },
  {
   "cell_type": "code",
   "execution_count": 107,
   "metadata": {},
   "outputs": [],
   "source": [
    "# Filtering \"Puducherry\"\n",
    "\n",
    "# Creating index\n",
    "\n",
    "gsva_1['Index']=range(len(gsva_1))\n",
    "gsva_1.set_index('Index',inplace=True)\n",
    "\n",
    "# Taking the index value\n",
    "\n",
    "p_max=max(gsva_1.loc[gsva_1[\"State\"]=='Puducherry'].index)\n",
    "p_min=min(gsva_1.loc[gsva_1[\"State\"]=='Puducherry'].index)\n",
    "\n",
    "# Now filtering\n",
    "\n",
    "gsva_1=pd.concat([gsva_1.iloc[0:p_min],gsva_1.iloc[p_max+1:]],sort=False)\n",
    "\n",
    "\n",
    "# Filtering \"Delhi\"\n",
    "\n",
    "# Taking the index value\n",
    "\n",
    "d_max=max(gsva_1.loc[gsva_1[\"State\"]=='Delhi'].index)\n",
    "d_min=min(gsva_1.loc[gsva_1[\"State\"]=='Delhi'].index)\n",
    "\n",
    "# Now filtering\n",
    "\n",
    "gsva_1=pd.concat([gsva_1.iloc[0:d_min],gsva_1.iloc[d_max+1:]],sort=False)\n",
    "\n",
    "# Filtering \"Chandigarh\"\n",
    "\n",
    "# Taking the index value\n",
    "\n",
    "c_max=max(gsva_1.loc[gsva_1[\"State\"]=='Chandigarh'].index)\n",
    "c_min=min(gsva_1.loc[gsva_1[\"State\"]=='Chandigarh'].index)\n",
    "\n",
    "# Now filtering\n",
    "\n",
    "gsva_1=pd.concat([gsva_1.iloc[0:c_min],gsva_1.iloc[c_max+1:]],sort=False)"
   ]
  },
  {
   "cell_type": "code",
   "execution_count": 108,
   "metadata": {},
   "outputs": [
    {
     "data": {
      "text/plain": [
       "set()"
      ]
     },
     "execution_count": 108,
     "metadata": {},
     "output_type": "execute_result"
    }
   ],
   "source": [
    "# Checking for Union territory\n",
    "\n",
    "count1=[]        \n",
    "count1=[count1.append(un) for un in gsva_1.State if un in union_territory]\n",
    "set(count1) "
   ]
  },
  {
   "cell_type": "markdown",
   "metadata": {},
   "source": [
    "As we can see the set is empty which means all the \"Union Territories\" were filtered out from the dataframe for further analysis. "
   ]
  },
  {
   "cell_type": "code",
   "execution_count": 109,
   "metadata": {},
   "outputs": [
    {
     "data": {
      "text/plain": [
       "S.No.       0\n",
       "Item        0\n",
       "2014-15    16\n",
       "State       0\n",
       "dtype: int64"
      ]
     },
     "execution_count": 109,
     "metadata": {},
     "output_type": "execute_result"
    }
   ],
   "source": [
    "# Cleaning the dataframe/ handling missig data\n",
    "\n",
    "gsva_1.isnull().sum(axis=0)"
   ]
  },
  {
   "cell_type": "markdown",
   "metadata": {},
   "source": [
    "As we can see that there are 16 rows with nulll values for column \"2014-15\". Let's find out which state they belong"
   ]
  },
  {
   "cell_type": "code",
   "execution_count": 110,
   "metadata": {},
   "outputs": [
    {
     "data": {
      "text/html": [
       "<div>\n",
       "<style scoped>\n",
       "    .dataframe tbody tr th:only-of-type {\n",
       "        vertical-align: middle;\n",
       "    }\n",
       "\n",
       "    .dataframe tbody tr th {\n",
       "        vertical-align: top;\n",
       "    }\n",
       "\n",
       "    .dataframe thead th {\n",
       "        text-align: right;\n",
       "    }\n",
       "</style>\n",
       "<table border=\"1\" class=\"dataframe\">\n",
       "  <thead>\n",
       "    <tr style=\"text-align: right;\">\n",
       "      <th></th>\n",
       "      <th>S.No.</th>\n",
       "      <th>Item</th>\n",
       "      <th>2014-15</th>\n",
       "      <th>State</th>\n",
       "    </tr>\n",
       "    <tr>\n",
       "      <th>Index</th>\n",
       "      <th></th>\n",
       "      <th></th>\n",
       "      <th></th>\n",
       "      <th></th>\n",
       "    </tr>\n",
       "  </thead>\n",
       "  <tbody>\n",
       "    <tr>\n",
       "      <th>277</th>\n",
       "      <td>6.2</td>\n",
       "      <td>Hotels &amp; restaurants</td>\n",
       "      <td>NaN</td>\n",
       "      <td>Gujarat</td>\n",
       "    </tr>\n",
       "    <tr>\n",
       "      <th>280</th>\n",
       "      <td>7.2</td>\n",
       "      <td>Road transport</td>\n",
       "      <td>NaN</td>\n",
       "      <td>Gujarat</td>\n",
       "    </tr>\n",
       "    <tr>\n",
       "      <th>281</th>\n",
       "      <td>7.3</td>\n",
       "      <td>Water transport</td>\n",
       "      <td>NaN</td>\n",
       "      <td>Gujarat</td>\n",
       "    </tr>\n",
       "    <tr>\n",
       "      <th>282</th>\n",
       "      <td>7.4</td>\n",
       "      <td>Air transport</td>\n",
       "      <td>NaN</td>\n",
       "      <td>Gujarat</td>\n",
       "    </tr>\n",
       "    <tr>\n",
       "      <th>314</th>\n",
       "      <td>7.3</td>\n",
       "      <td>Water transport</td>\n",
       "      <td>NaN</td>\n",
       "      <td>Haryana</td>\n",
       "    </tr>\n",
       "    <tr>\n",
       "      <th>315</th>\n",
       "      <td>7.4</td>\n",
       "      <td>Air transport</td>\n",
       "      <td>NaN</td>\n",
       "      <td>Haryana</td>\n",
       "    </tr>\n",
       "    <tr>\n",
       "      <th>533</th>\n",
       "      <td>2.</td>\n",
       "      <td>Mining and quarrying</td>\n",
       "      <td>NaN</td>\n",
       "      <td>Manipur</td>\n",
       "    </tr>\n",
       "    <tr>\n",
       "      <th>545</th>\n",
       "      <td>7.3</td>\n",
       "      <td>Water transport</td>\n",
       "      <td>NaN</td>\n",
       "      <td>Manipur</td>\n",
       "    </tr>\n",
       "    <tr>\n",
       "      <th>548</th>\n",
       "      <td>7.6</td>\n",
       "      <td>Storage</td>\n",
       "      <td>NaN</td>\n",
       "      <td>Manipur</td>\n",
       "    </tr>\n",
       "    <tr>\n",
       "      <th>578</th>\n",
       "      <td>7.3</td>\n",
       "      <td>Water transport</td>\n",
       "      <td>NaN</td>\n",
       "      <td>Meghalaya</td>\n",
       "    </tr>\n",
       "    <tr>\n",
       "      <th>580</th>\n",
       "      <td>7.5</td>\n",
       "      <td>Services incidental to transport</td>\n",
       "      <td>NaN</td>\n",
       "      <td>Meghalaya</td>\n",
       "    </tr>\n",
       "    <tr>\n",
       "      <th>904</th>\n",
       "      <td>6.2</td>\n",
       "      <td>Hotels &amp; restaurants</td>\n",
       "      <td>NaN</td>\n",
       "      <td>Tripura</td>\n",
       "    </tr>\n",
       "    <tr>\n",
       "      <th>907</th>\n",
       "      <td>7.2</td>\n",
       "      <td>Road transport</td>\n",
       "      <td>NaN</td>\n",
       "      <td>Tripura</td>\n",
       "    </tr>\n",
       "    <tr>\n",
       "      <th>908</th>\n",
       "      <td>7.3</td>\n",
       "      <td>Water transport</td>\n",
       "      <td>NaN</td>\n",
       "      <td>Tripura</td>\n",
       "    </tr>\n",
       "    <tr>\n",
       "      <th>909</th>\n",
       "      <td>7.4</td>\n",
       "      <td>Air transport</td>\n",
       "      <td>NaN</td>\n",
       "      <td>Tripura</td>\n",
       "    </tr>\n",
       "    <tr>\n",
       "      <th>941</th>\n",
       "      <td>7.3</td>\n",
       "      <td>Water transport</td>\n",
       "      <td>NaN</td>\n",
       "      <td>Uttarakhand</td>\n",
       "    </tr>\n",
       "  </tbody>\n",
       "</table>\n",
       "</div>"
      ],
      "text/plain": [
       "           S.No.                              Item  2014-15        State\n",
       "Index                                                                   \n",
       "277          6.2              Hotels & restaurants      NaN      Gujarat\n",
       "280          7.2                    Road transport      NaN      Gujarat\n",
       "281          7.3                   Water transport      NaN      Gujarat\n",
       "282          7.4                     Air transport      NaN      Gujarat\n",
       "314          7.3                   Water transport      NaN      Haryana\n",
       "315          7.4                     Air transport      NaN      Haryana\n",
       "533    2.                     Mining and quarrying      NaN      Manipur\n",
       "545          7.3                   Water transport      NaN      Manipur\n",
       "548          7.6                           Storage      NaN      Manipur\n",
       "578          7.3                   Water transport      NaN    Meghalaya\n",
       "580          7.5  Services incidental to transport      NaN    Meghalaya\n",
       "904          6.2              Hotels & restaurants      NaN      Tripura\n",
       "907          7.2                    Road transport      NaN      Tripura\n",
       "908          7.3                   Water transport      NaN      Tripura\n",
       "909          7.4                     Air transport      NaN      Tripura\n",
       "941          7.3                   Water transport      NaN  Uttarakhand"
      ]
     },
     "execution_count": 110,
     "metadata": {},
     "output_type": "execute_result"
    }
   ],
   "source": [
    "gsva_1[gsva_1.isnull().sum(axis=1)==1]"
   ]
  },
  {
   "cell_type": "markdown",
   "metadata": {},
   "source": [
    "As we can see there are 6 states which having null values for mentioned items. we will drop these 16 null values items and will process with our next analysis. "
   ]
  },
  {
   "cell_type": "code",
   "execution_count": 111,
   "metadata": {},
   "outputs": [],
   "source": [
    "# Dropping the null rows \n",
    "\n",
    "gsva_1=gsva_1.drop(gsva_1[gsva_1.isnull().sum(axis=1)==1].index)\n",
    "\n"
   ]
  },
  {
   "cell_type": "code",
   "execution_count": 112,
   "metadata": {},
   "outputs": [
    {
     "data": {
      "text/plain": [
       "S.No.      0\n",
       "Item       0\n",
       "2014-15    0\n",
       "State      0\n",
       "dtype: int64"
      ]
     },
     "execution_count": 112,
     "metadata": {},
     "output_type": "execute_result"
    }
   ],
   "source": [
    "# checking for null values if any\n",
    "\n",
    "gsva_1.isnull().sum(axis=0)"
   ]
  },
  {
   "cell_type": "markdown",
   "metadata": {},
   "source": [
    "So, we have cleaned our dataframe and it is good to go with our next analysis"
   ]
  },
  {
   "cell_type": "markdown",
   "metadata": {},
   "source": [
    "-------------------------------------------------------------------------------------------------------------------------------"
   ]
  },
  {
   "cell_type": "markdown",
   "metadata": {},
   "source": [
    "**Plotting GDP per capita for all states**"
   ]
  },
  {
   "cell_type": "code",
   "execution_count": 113,
   "metadata": {},
   "outputs": [],
   "source": [
    "# converting the data type for column \"2014-15\" into integer\n",
    "\n",
    "gsva_1[\"2014-15\"]=gsva_1[\"2014-15\"].apply(lambda x:int(x))"
   ]
  },
  {
   "cell_type": "code",
   "execution_count": 114,
   "metadata": {},
   "outputs": [
    {
     "data": {
      "text/html": [
       "<div>\n",
       "<style scoped>\n",
       "    .dataframe tbody tr th:only-of-type {\n",
       "        vertical-align: middle;\n",
       "    }\n",
       "\n",
       "    .dataframe tbody tr th {\n",
       "        vertical-align: top;\n",
       "    }\n",
       "\n",
       "    .dataframe thead th {\n",
       "        text-align: right;\n",
       "    }\n",
       "</style>\n",
       "<table border=\"1\" class=\"dataframe\">\n",
       "  <thead>\n",
       "    <tr style=\"text-align: right;\">\n",
       "      <th></th>\n",
       "      <th>S.No.</th>\n",
       "      <th>Item</th>\n",
       "      <th>2014-15</th>\n",
       "      <th>State</th>\n",
       "    </tr>\n",
       "    <tr>\n",
       "      <th>Index</th>\n",
       "      <th></th>\n",
       "      <th></th>\n",
       "      <th></th>\n",
       "      <th></th>\n",
       "    </tr>\n",
       "  </thead>\n",
       "  <tbody>\n",
       "    <tr>\n",
       "      <th>263</th>\n",
       "      <td>17</td>\n",
       "      <td>Per Capita GSDP (Rs.)</td>\n",
       "      <td>271793</td>\n",
       "      <td>Goa</td>\n",
       "    </tr>\n",
       "    <tr>\n",
       "      <th>824</th>\n",
       "      <td>17</td>\n",
       "      <td>Per Capita GSDP (Rs.)</td>\n",
       "      <td>240274</td>\n",
       "      <td>Sikkim</td>\n",
       "    </tr>\n",
       "    <tr>\n",
       "      <th>329</th>\n",
       "      <td>17</td>\n",
       "      <td>Per Capita GSDP (Rs.)</td>\n",
       "      <td>164077</td>\n",
       "      <td>Haryana</td>\n",
       "    </tr>\n",
       "    <tr>\n",
       "      <th>461</th>\n",
       "      <td>17</td>\n",
       "      <td>Per Capita GSDP (Rs.)</td>\n",
       "      <td>154778</td>\n",
       "      <td>Kerala</td>\n",
       "    </tr>\n",
       "    <tr>\n",
       "      <th>956</th>\n",
       "      <td>17</td>\n",
       "      <td>Per Capita GSDP (Rs.)</td>\n",
       "      <td>153076</td>\n",
       "      <td>Uttarakhand</td>\n",
       "    </tr>\n",
       "  </tbody>\n",
       "</table>\n",
       "</div>"
      ],
      "text/plain": [
       "      S.No.                   Item  2014-15        State\n",
       "Index                                                   \n",
       "263      17  Per Capita GSDP (Rs.)   271793          Goa\n",
       "824      17  Per Capita GSDP (Rs.)   240274       Sikkim\n",
       "329      17  Per Capita GSDP (Rs.)   164077      Haryana\n",
       "461      17  Per Capita GSDP (Rs.)   154778       Kerala\n",
       "956      17  Per Capita GSDP (Rs.)   153076  Uttarakhand"
      ]
     },
     "execution_count": 114,
     "metadata": {},
     "output_type": "execute_result"
    }
   ],
   "source": [
    "# Filtering and sorting the GDP per capita for all states and inserting into new dataframe\n",
    "\n",
    "gsva_per_cap=gsva_1[gsva_1[\"Item\"]=='Per Capita GSDP (Rs.)'].sort_values(by='2014-15',axis=0,ascending=False,inplace=False)\n",
    "\n",
    "\n",
    "gsva_per_cap.head()"
   ]
  },
  {
   "cell_type": "code",
   "execution_count": 115,
   "metadata": {},
   "outputs": [
    {
     "data": {
      "image/png": "[encoded data removed]",
      "text/plain": [
       "<Figure size 1080x720 with 1 Axes>"
      ]
     },
     "metadata": {},
     "output_type": "display_data"
    }
   ],
   "source": [
    "# Now Plotting\n",
    "\n",
    "# Setting gridlines,context and size of the figure\n",
    "\n",
    "sns.set_style(\"whitegrid\")\n",
    "sns.set_context('talk')\n",
    "plt.figure(figsize=(15,10))\n",
    "plt.rcParams[\"axes.labelsize\"] = 20\n",
    "plt.rcParams['axes.titlesize'] = 22\n",
    "plt.rcParams['axes.titlepad'] = 30\n",
    "\n",
    "# Using barplot for better visualisation\n",
    "\n",
    "sns.barplot(x='State',y='2014-15',data=gsva_per_cap,palette='nipy_spectral')\n",
    "plt.xticks(rotation=90)\n",
    "\n",
    "# Setting labels for x-axis, y-axis and title\n",
    "\n",
    "plt.xlabel(\"State\")\n",
    "plt.ylabel(\"GSDP Per Capita (Rs.)\")\n",
    "plt.title(\"GSDP Per capita (2014-15)\")\n",
    "\n",
    "# Setting top value \n",
    "\n",
    "plt.ylim(top=300000)\n",
    "\n",
    "plt.show()\n"
   ]
  },
  {
   "cell_type": "markdown",
   "metadata": {},
   "source": [
    "                                 \n",
    "**Top-5=> \"Goa\", \"Sikkim\", \"Haryana\", \"Kerala\" and \"Uttarakhand\"   \n",
    "Bottom-5=> \"Bihar\", \"Uttar_Pradesh\", \"Manipur\", \"Assam\" and \"Jharkhand\"**"
   ]
  },
  {
   "cell_type": "code",
   "execution_count": 116,
   "metadata": {},
   "outputs": [
    {
     "data": {
      "text/plain": [
       "[8.0]"
      ]
     },
     "execution_count": 116,
     "metadata": {},
     "output_type": "execute_result"
    }
   ],
   "source": [
    "# Ratio of highest per capita GSDP vs Lowest per capita GSDP\n",
    "\n",
    "# As we can see the highest per capita gdp is \"Goa\" and lowest per capita is \"Bihar\"\n",
    "\n",
    "# Taking the values of Per Capita GSDP (Rs.) in \"Goa\" and \"Bihar\"\n",
    "\n",
    "rt_goa=gsva_1.loc[gsva_1[\"State\"]=='Goa']\n",
    "rt_goa=rt_goa.loc[rt_goa[\"Item\"]==\"Per Capita GSDP (Rs.)\"]\n",
    "\n",
    "rt_bihar=gsva_1.loc[gsva_1[\"State\"]=='Bihar']\n",
    "rt_bihar=rt_bihar.loc[rt_bihar[\"Item\"]==\"Per Capita GSDP (Rs.)\"]\n",
    "\n",
    "# Calulating the ratio of Per Capita GSDP (Rs.) in \"Goa\" and \"Bihar\"\n",
    "\n",
    "ratio=[round(i,2) for i in np.array(rt_goa.loc[:,\"2014-15\"])/np.array(rt_bihar.loc[:,\"2014-15\"])]\n",
    "\n",
    "ratio\n"
   ]
  },
  {
   "cell_type": "markdown",
   "metadata": {},
   "source": [
    "**The ratio of highest per capita gdp('Goa') to the lowest per capita gdp('Bihar') is 8.0**"
   ]
  },
  {
   "cell_type": "markdown",
   "metadata": {},
   "source": [
    "------------------------------------------"
   ]
  },
  {
   "cell_type": "markdown",
   "metadata": {},
   "source": [
    "**Percentage contribution of primary secondary and tertiary sectors as a percentage of total GDP for all states**"
   ]
  },
  {
   "cell_type": "code",
   "execution_count": 117,
   "metadata": {},
   "outputs": [
    {
     "data": {
      "text/plain": [
       "[19.69, 25.93, 46.06, 8.32]"
      ]
     },
     "execution_count": 117,
     "metadata": {},
     "output_type": "execute_result"
    }
   ],
   "source": [
    "# Creating  a dataframe for primary secondary and tertiary sectors with GDP for all states\n",
    "\n",
    "pst_gsdp=gsva_1.loc[gsva_1['S.No.']=='Total'].sort_values(by=['State','Item'],ascending=True,inplace=False)\n",
    "\n",
    "# Separating each sectors i.e. Primary, Secondary and Tertiary \n",
    "\n",
    "primary=gsva_1.loc[gsva_1['Item']=='Primary']\n",
    "primary=primary.sort_values(by='State')\n",
    "\n",
    "secondary=gsva_1.loc[gsva_1['Item']=='Secondary']\n",
    "secondary=secondary.sort_values(by='State')\n",
    "\n",
    "tertiary=gsva_1.loc[gsva_1['Item']=='Tertiary']\n",
    "tertiary=tertiary.sort_values(by='State')\n",
    "\n",
    "# Seperating GSDP by state\n",
    "\n",
    "gross=gsva_1.loc[gsva_1['Item']=='Gross State Domestic Product']\n",
    "gross=gross.sort_values(by='State')\n",
    "\n",
    "# Now calculating the % Contribution as a percentage of total GDP for all states\n",
    "\n",
    "primary_contribution=round(primary['2014-15'].sum()/gross['2014-15'].sum()*100,2)\n",
    "secondary_contribution=round(secondary['2014-15'].sum()/gross['2014-15'].sum()*100,2)\n",
    "tertiary_contribution=round(tertiary['2014-15'].sum()/gross['2014-15'].sum()*100,2)\n",
    "\n",
    "\n",
    "# Adding all the sectors(Primary, Secondary and Tertiary) into one list for plotting\n",
    "\n",
    "pst_contribution=[]\n",
    "pst_contribution.append(primary_contribution)\n",
    "pst_contribution.append(secondary_contribution)\n",
    "pst_contribution.append(tertiary_contribution)\n",
    "pst_contribution.append(round(100-sum(pst_contribution),2))\n",
    "pst_contribution"
   ]
  },
  {
   "cell_type": "code",
   "execution_count": 119,
   "metadata": {},
   "outputs": [
    {
     "data": {
      "image/png": "[encoded data removed]",
      "text/plain": [
       "<Figure size 1440x936 with 1 Axes>"
      ]
     },
     "metadata": {},
     "output_type": "display_data"
    }
   ],
   "source": [
    "# Now Plotting\n",
    "\n",
    "# Setting context, size of the figure\n",
    "\n",
    "sns.set_context('talk')\n",
    "plt.figure(figsize=(20,13))\n",
    "plt.rcParams['axes.titlesize'] = 25\n",
    "plt.rcParams['axes.titlepad'] =80\n",
    "\n",
    "# Using pie chart for percentage contribution visualisation\n",
    "\n",
    "plt.title(\"% GSDP Contribution(in Sectors)\",loc='center')\n",
    "\n",
    "\n",
    "# Data to plot\n",
    "\n",
    "labels = 'Primary', 'Secondary', 'Tertiary', 'Others'\n",
    "colors = ['gold', 'yellowgreen', 'coral', 'skyblue']\n",
    "explode=[0.1,0,0,0] # Primary sector will cut out\n",
    "    \n",
    "# Plotting\n",
    "\n",
    "plt.pie(pst_contribution, labels=labels,explode=explode, colors=colors,labeldistance=1.1,\n",
    "autopct='%1.0f%%', shadow=True, startangle=200,textprops={'fontsize': 25}) \n",
    "plt.axis('equal')\n",
    "\n",
    "plt.show()\n"
   ]
  },
  {
   "cell_type": "markdown",
   "metadata": {},
   "source": [
    "------------------------------------------"
   ]
  },
  {
   "cell_type": "markdown",
   "metadata": {},
   "source": [
    "**Categorizing the states into four based on GDP per capita(C1, C2, C3, C4)\n",
    "C1 is the highest per capita GDP and C4 is the lowest.**"
   ]
  },
  {
   "cell_type": "markdown",
   "metadata": {},
   "source": [
    "The quantile values are (0.20,0.5, 0.85, 1), i.e. the states lying between the 85th and the 100th percentile are in C1, \n",
    "those between 50th and 85th percentile are in C2 and so on."
   ]
  },
  {
   "cell_type": "code",
   "execution_count": 120,
   "metadata": {},
   "outputs": [
    {
     "data": {
      "text/html": [
       "<div>\n",
       "<style scoped>\n",
       "    .dataframe tbody tr th:only-of-type {\n",
       "        vertical-align: middle;\n",
       "    }\n",
       "\n",
       "    .dataframe tbody tr th {\n",
       "        vertical-align: top;\n",
       "    }\n",
       "\n",
       "    .dataframe thead th {\n",
       "        text-align: right;\n",
       "    }\n",
       "</style>\n",
       "<table border=\"1\" class=\"dataframe\">\n",
       "  <thead>\n",
       "    <tr style=\"text-align: right;\">\n",
       "      <th></th>\n",
       "      <th>S.No.</th>\n",
       "      <th>Item</th>\n",
       "      <th>2014-15</th>\n",
       "      <th>State</th>\n",
       "    </tr>\n",
       "    <tr>\n",
       "      <th>Index</th>\n",
       "      <th></th>\n",
       "      <th></th>\n",
       "      <th></th>\n",
       "      <th></th>\n",
       "    </tr>\n",
       "  </thead>\n",
       "  <tbody>\n",
       "    <tr>\n",
       "      <th>263</th>\n",
       "      <td>17</td>\n",
       "      <td>Per Capita GSDP (Rs.)</td>\n",
       "      <td>271793</td>\n",
       "      <td>Goa</td>\n",
       "    </tr>\n",
       "    <tr>\n",
       "      <th>824</th>\n",
       "      <td>17</td>\n",
       "      <td>Per Capita GSDP (Rs.)</td>\n",
       "      <td>240274</td>\n",
       "      <td>Sikkim</td>\n",
       "    </tr>\n",
       "    <tr>\n",
       "      <th>329</th>\n",
       "      <td>17</td>\n",
       "      <td>Per Capita GSDP (Rs.)</td>\n",
       "      <td>164077</td>\n",
       "      <td>Haryana</td>\n",
       "    </tr>\n",
       "    <tr>\n",
       "      <th>461</th>\n",
       "      <td>17</td>\n",
       "      <td>Per Capita GSDP (Rs.)</td>\n",
       "      <td>154778</td>\n",
       "      <td>Kerala</td>\n",
       "    </tr>\n",
       "    <tr>\n",
       "      <th>956</th>\n",
       "      <td>17</td>\n",
       "      <td>Per Capita GSDP (Rs.)</td>\n",
       "      <td>153076</td>\n",
       "      <td>Uttarakhand</td>\n",
       "    </tr>\n",
       "  </tbody>\n",
       "</table>\n",
       "</div>"
      ],
      "text/plain": [
       "      S.No.                   Item  2014-15        State\n",
       "Index                                                   \n",
       "263      17  Per Capita GSDP (Rs.)   271793          Goa\n",
       "824      17  Per Capita GSDP (Rs.)   240274       Sikkim\n",
       "329      17  Per Capita GSDP (Rs.)   164077      Haryana\n",
       "461      17  Per Capita GSDP (Rs.)   154778       Kerala\n",
       "956      17  Per Capita GSDP (Rs.)   153076  Uttarakhand"
      ]
     },
     "execution_count": 120,
     "metadata": {},
     "output_type": "execute_result"
    }
   ],
   "source": [
    "# Before initiating the calculation of quantile \n",
    "# we have to sort the dataframe\n",
    "\n",
    "gsva_per_cap=gsva_per_cap.sort_values(by='2014-15',ascending=False)\n",
    "gsva_per_cap.head(5)"
   ]
  },
  {
   "cell_type": "code",
   "execution_count": 121,
   "metadata": {},
   "outputs": [],
   "source": [
    "# Now, calculating quantile with values [0.20,0.50,0.85,1] \n",
    "# and converting the output ito numpy data-type to categorize the value\n",
    "\n",
    "first=gsva_per_cap['2014-15'].quantile([0.20,0.50,0.85,1])[0.20]\n",
    "second=gsva_per_cap['2014-15'].quantile([0.20,0.50,0.85,1])[0.50]\n",
    "third=gsva_per_cap['2014-15'].quantile([0.20,0.50,0.85,1])[0.85]\n",
    "fourth=gsva_per_cap['2014-15'].quantile([0.20,0.50,0.85,1])[1]\n",
    "\n"
   ]
  },
  {
   "cell_type": "code",
   "execution_count": 122,
   "metadata": {},
   "outputs": [
    {
     "data": {
      "text/html": [
       "<div>\n",
       "<style scoped>\n",
       "    .dataframe tbody tr th:only-of-type {\n",
       "        vertical-align: middle;\n",
       "    }\n",
       "\n",
       "    .dataframe tbody tr th {\n",
       "        vertical-align: top;\n",
       "    }\n",
       "\n",
       "    .dataframe thead th {\n",
       "        text-align: right;\n",
       "    }\n",
       "</style>\n",
       "<table border=\"1\" class=\"dataframe\">\n",
       "  <thead>\n",
       "    <tr style=\"text-align: right;\">\n",
       "      <th></th>\n",
       "      <th>S.No.</th>\n",
       "      <th>Item</th>\n",
       "      <th>2014-15</th>\n",
       "      <th>State</th>\n",
       "      <th>Category</th>\n",
       "    </tr>\n",
       "    <tr>\n",
       "      <th>Index</th>\n",
       "      <th></th>\n",
       "      <th></th>\n",
       "      <th></th>\n",
       "      <th></th>\n",
       "      <th></th>\n",
       "    </tr>\n",
       "  </thead>\n",
       "  <tbody>\n",
       "    <tr>\n",
       "      <th>263</th>\n",
       "      <td>17</td>\n",
       "      <td>Per Capita GSDP (Rs.)</td>\n",
       "      <td>271793</td>\n",
       "      <td>Goa</td>\n",
       "      <td>c1</td>\n",
       "    </tr>\n",
       "    <tr>\n",
       "      <th>824</th>\n",
       "      <td>17</td>\n",
       "      <td>Per Capita GSDP (Rs.)</td>\n",
       "      <td>240274</td>\n",
       "      <td>Sikkim</td>\n",
       "      <td>c1</td>\n",
       "    </tr>\n",
       "    <tr>\n",
       "      <th>329</th>\n",
       "      <td>17</td>\n",
       "      <td>Per Capita GSDP (Rs.)</td>\n",
       "      <td>164077</td>\n",
       "      <td>Haryana</td>\n",
       "      <td>c1</td>\n",
       "    </tr>\n",
       "    <tr>\n",
       "      <th>461</th>\n",
       "      <td>17</td>\n",
       "      <td>Per Capita GSDP (Rs.)</td>\n",
       "      <td>154778</td>\n",
       "      <td>Kerala</td>\n",
       "      <td>c1</td>\n",
       "    </tr>\n",
       "    <tr>\n",
       "      <th>956</th>\n",
       "      <td>17</td>\n",
       "      <td>Per Capita GSDP (Rs.)</td>\n",
       "      <td>153076</td>\n",
       "      <td>Uttarakhand</td>\n",
       "      <td>c2</td>\n",
       "    </tr>\n",
       "  </tbody>\n",
       "</table>\n",
       "</div>"
      ],
      "text/plain": [
       "      S.No.                   Item  2014-15        State Category\n",
       "Index                                                            \n",
       "263      17  Per Capita GSDP (Rs.)   271793          Goa       c1\n",
       "824      17  Per Capita GSDP (Rs.)   240274       Sikkim       c1\n",
       "329      17  Per Capita GSDP (Rs.)   164077      Haryana       c1\n",
       "461      17  Per Capita GSDP (Rs.)   154778       Kerala       c1\n",
       "956      17  Per Capita GSDP (Rs.)   153076  Uttarakhand       c2"
      ]
     },
     "execution_count": 122,
     "metadata": {},
     "output_type": "execute_result"
    }
   ],
   "source": [
    "# Lastly, Categorizing each state based on GDP per capita(C1, C2, C3, C4) \n",
    "\n",
    "# C1 is the highest per capita GDP and C4 is the lowest.\n",
    "\n",
    "gsva_per_cap[\"Category\"]=\"\"\n",
    "\n",
    "# Now categorizing\n",
    "\n",
    "for i in range(len(gsva_per_cap)):\n",
    "    if gsva_per_cap.iloc[i,2]<=first:\n",
    "        gsva_per_cap.iloc[i,4]='c4'\n",
    "    elif gsva_per_cap.iloc[i,2]>first and gsva_per_cap.iloc[i,2]<=second:\n",
    "            gsva_per_cap.iloc[i,4]='c3'\n",
    "    elif gsva_per_cap.iloc[i,2]>second and gsva_per_cap.iloc[i,2]<=third:\n",
    "        gsva_per_cap.iloc[i,4]='c2'\n",
    "    elif gsva_per_cap.iloc[i,2]>third and gsva_per_cap.iloc[i,2]<=fourth:\n",
    "        gsva_per_cap.iloc[i,4]='c1'\n",
    "    else:\n",
    "        print(\"Incorrect data inserted\")\n",
    "\n",
    "gsva_per_cap.head(5)"
   ]
  },
  {
   "cell_type": "markdown",
   "metadata": {},
   "source": [
    "**Finding the top 3/4/5 sub-sectors for each category C1,C2,C3 and C4**"
   ]
  },
  {
   "cell_type": "code",
   "execution_count": 123,
   "metadata": {},
   "outputs": [
    {
     "data": {
      "text/html": [
       "<div>\n",
       "<style scoped>\n",
       "    .dataframe tbody tr th:only-of-type {\n",
       "        vertical-align: middle;\n",
       "    }\n",
       "\n",
       "    .dataframe tbody tr th {\n",
       "        vertical-align: top;\n",
       "    }\n",
       "\n",
       "    .dataframe thead th {\n",
       "        text-align: right;\n",
       "    }\n",
       "</style>\n",
       "<table border=\"1\" class=\"dataframe\">\n",
       "  <thead>\n",
       "    <tr style=\"text-align: right;\">\n",
       "      <th></th>\n",
       "      <th>S.No.</th>\n",
       "      <th>Item</th>\n",
       "      <th>2014-15</th>\n",
       "      <th>State</th>\n",
       "      <th>Category</th>\n",
       "    </tr>\n",
       "    <tr>\n",
       "      <th>Index</th>\n",
       "      <th></th>\n",
       "      <th></th>\n",
       "      <th></th>\n",
       "      <th></th>\n",
       "      <th></th>\n",
       "    </tr>\n",
       "  </thead>\n",
       "  <tbody>\n",
       "    <tr>\n",
       "      <th>263</th>\n",
       "      <td>17</td>\n",
       "      <td>Per Capita GSDP (Rs.)</td>\n",
       "      <td>271793</td>\n",
       "      <td>Goa</td>\n",
       "      <td>c1</td>\n",
       "    </tr>\n",
       "    <tr>\n",
       "      <th>824</th>\n",
       "      <td>17</td>\n",
       "      <td>Per Capita GSDP (Rs.)</td>\n",
       "      <td>240274</td>\n",
       "      <td>Sikkim</td>\n",
       "      <td>c1</td>\n",
       "    </tr>\n",
       "    <tr>\n",
       "      <th>329</th>\n",
       "      <td>17</td>\n",
       "      <td>Per Capita GSDP (Rs.)</td>\n",
       "      <td>164077</td>\n",
       "      <td>Haryana</td>\n",
       "      <td>c1</td>\n",
       "    </tr>\n",
       "    <tr>\n",
       "      <th>461</th>\n",
       "      <td>17</td>\n",
       "      <td>Per Capita GSDP (Rs.)</td>\n",
       "      <td>154778</td>\n",
       "      <td>Kerala</td>\n",
       "      <td>c1</td>\n",
       "    </tr>\n",
       "  </tbody>\n",
       "</table>\n",
       "</div>"
      ],
      "text/plain": [
       "      S.No.                   Item  2014-15    State Category\n",
       "Index                                                        \n",
       "263      17  Per Capita GSDP (Rs.)   271793      Goa       c1\n",
       "824      17  Per Capita GSDP (Rs.)   240274   Sikkim       c1\n",
       "329      17  Per Capita GSDP (Rs.)   164077  Haryana       c1\n",
       "461      17  Per Capita GSDP (Rs.)   154778   Kerala       c1"
      ]
     },
     "execution_count": 123,
     "metadata": {},
     "output_type": "execute_result"
    }
   ],
   "source": [
    "# Lets find the states which are in the category C1,C2,C3 and C4\n",
    "\n",
    "# For C1 category\n",
    "\n",
    "gsva_per_cap.loc[gsva_per_cap['Category']=='c1']\n",
    "\n",
    "# so, the states which are in category C1 are \"Goa\",\"Sikkim\",\"Haryana\" and \"Kerala\"\n"
   ]
  },
  {
   "cell_type": "code",
   "execution_count": 124,
   "metadata": {},
   "outputs": [
    {
     "data": {
      "text/html": [
       "<div>\n",
       "<style scoped>\n",
       "    .dataframe tbody tr th:only-of-type {\n",
       "        vertical-align: middle;\n",
       "    }\n",
       "\n",
       "    .dataframe tbody tr th {\n",
       "        vertical-align: top;\n",
       "    }\n",
       "\n",
       "    .dataframe thead th {\n",
       "        text-align: right;\n",
       "    }\n",
       "</style>\n",
       "<table border=\"1\" class=\"dataframe\">\n",
       "  <thead>\n",
       "    <tr style=\"text-align: right;\">\n",
       "      <th></th>\n",
       "      <th>S.No.</th>\n",
       "      <th>Item</th>\n",
       "      <th>2014-15</th>\n",
       "      <th>State</th>\n",
       "      <th>Category</th>\n",
       "    </tr>\n",
       "    <tr>\n",
       "      <th>Index</th>\n",
       "      <th></th>\n",
       "      <th></th>\n",
       "      <th></th>\n",
       "      <th></th>\n",
       "      <th></th>\n",
       "    </tr>\n",
       "  </thead>\n",
       "  <tbody>\n",
       "    <tr>\n",
       "      <th>956</th>\n",
       "      <td>17</td>\n",
       "      <td>Per Capita GSDP (Rs.)</td>\n",
       "      <td>153076</td>\n",
       "      <td>Uttarakhand</td>\n",
       "      <td>c2</td>\n",
       "    </tr>\n",
       "    <tr>\n",
       "      <th>527</th>\n",
       "      <td>17</td>\n",
       "      <td>Per Capita GSDP (Rs.)</td>\n",
       "      <td>152853</td>\n",
       "      <td>Maharashtra</td>\n",
       "      <td>c2</td>\n",
       "    </tr>\n",
       "    <tr>\n",
       "      <th>362</th>\n",
       "      <td>17</td>\n",
       "      <td>Per Capita GSDP (Rs.)</td>\n",
       "      <td>147330</td>\n",
       "      <td>Himachal_Pradesh</td>\n",
       "      <td>c2</td>\n",
       "    </tr>\n",
       "    <tr>\n",
       "      <th>857</th>\n",
       "      <td>17</td>\n",
       "      <td>Per Capita GSDP (Rs.)</td>\n",
       "      <td>146503</td>\n",
       "      <td>Tamil_Nadu</td>\n",
       "      <td>c2</td>\n",
       "    </tr>\n",
       "    <tr>\n",
       "      <th>428</th>\n",
       "      <td>17</td>\n",
       "      <td>Per Capita GSDP (Rs.)</td>\n",
       "      <td>145141</td>\n",
       "      <td>Karnataka</td>\n",
       "      <td>c2</td>\n",
       "    </tr>\n",
       "    <tr>\n",
       "      <th>296</th>\n",
       "      <td>17</td>\n",
       "      <td>Per Capita GSDP (Rs.)</td>\n",
       "      <td>141263</td>\n",
       "      <td>Gujarat</td>\n",
       "      <td>c2</td>\n",
       "    </tr>\n",
       "    <tr>\n",
       "      <th>890</th>\n",
       "      <td>17</td>\n",
       "      <td>Per Capita GSDP (Rs.)</td>\n",
       "      <td>139035</td>\n",
       "      <td>Telangana</td>\n",
       "      <td>c2</td>\n",
       "    </tr>\n",
       "    <tr>\n",
       "      <th>758</th>\n",
       "      <td>17</td>\n",
       "      <td>Per Capita GSDP (Rs.)</td>\n",
       "      <td>126606</td>\n",
       "      <td>Punjab</td>\n",
       "      <td>c2</td>\n",
       "    </tr>\n",
       "    <tr>\n",
       "      <th>65</th>\n",
       "      <td>17</td>\n",
       "      <td>Per Capita GSDP (Rs.)</td>\n",
       "      <td>112718</td>\n",
       "      <td>Arunachal_Pradesh</td>\n",
       "      <td>c2</td>\n",
       "    </tr>\n",
       "  </tbody>\n",
       "</table>\n",
       "</div>"
      ],
      "text/plain": [
       "      S.No.                   Item  2014-15              State Category\n",
       "Index                                                                  \n",
       "956      17  Per Capita GSDP (Rs.)   153076        Uttarakhand       c2\n",
       "527      17  Per Capita GSDP (Rs.)   152853        Maharashtra       c2\n",
       "362      17  Per Capita GSDP (Rs.)   147330   Himachal_Pradesh       c2\n",
       "857      17  Per Capita GSDP (Rs.)   146503         Tamil_Nadu       c2\n",
       "428      17  Per Capita GSDP (Rs.)   145141          Karnataka       c2\n",
       "296      17  Per Capita GSDP (Rs.)   141263            Gujarat       c2\n",
       "890      17  Per Capita GSDP (Rs.)   139035          Telangana       c2\n",
       "758      17  Per Capita GSDP (Rs.)   126606             Punjab       c2\n",
       "65       17  Per Capita GSDP (Rs.)   112718  Arunachal_Pradesh       c2"
      ]
     },
     "execution_count": 124,
     "metadata": {},
     "output_type": "execute_result"
    }
   ],
   "source": [
    "# For C2 category\n",
    "\n",
    "gsva_per_cap.loc[gsva_per_cap['Category']=='c2']\n",
    "\n",
    "# so, the states which are in category C2 are\n",
    "# \"Uttarakhand\",\"Maharashtra\",\"Himachal Pradesh\", \"Tamil Nadu\", \"Karnataka\" ,\"Gujarat\", \"Telangana\"\n",
    "# \"Punjab\" and \"Arunachal Pradesh\""
   ]
  },
  {
   "cell_type": "code",
   "execution_count": 125,
   "metadata": {},
   "outputs": [
    {
     "data": {
      "text/html": [
       "<div>\n",
       "<style scoped>\n",
       "    .dataframe tbody tr th:only-of-type {\n",
       "        vertical-align: middle;\n",
       "    }\n",
       "\n",
       "    .dataframe tbody tr th {\n",
       "        vertical-align: top;\n",
       "    }\n",
       "\n",
       "    .dataframe thead th {\n",
       "        text-align: right;\n",
       "    }\n",
       "</style>\n",
       "<table border=\"1\" class=\"dataframe\">\n",
       "  <thead>\n",
       "    <tr style=\"text-align: right;\">\n",
       "      <th></th>\n",
       "      <th>S.No.</th>\n",
       "      <th>Item</th>\n",
       "      <th>2014-15</th>\n",
       "      <th>State</th>\n",
       "      <th>Category</th>\n",
       "    </tr>\n",
       "    <tr>\n",
       "      <th>Index</th>\n",
       "      <th></th>\n",
       "      <th></th>\n",
       "      <th></th>\n",
       "      <th></th>\n",
       "      <th></th>\n",
       "    </tr>\n",
       "  </thead>\n",
       "  <tbody>\n",
       "    <tr>\n",
       "      <th>32</th>\n",
       "      <td>17</td>\n",
       "      <td>Per Capita GSDP (Rs.)</td>\n",
       "      <td>104977</td>\n",
       "      <td>Andhra_Pradesh</td>\n",
       "      <td>c3</td>\n",
       "    </tr>\n",
       "    <tr>\n",
       "      <th>626</th>\n",
       "      <td>17</td>\n",
       "      <td>Per Capita GSDP (Rs.)</td>\n",
       "      <td>97687</td>\n",
       "      <td>Mizoram</td>\n",
       "      <td>c3</td>\n",
       "    </tr>\n",
       "    <tr>\n",
       "      <th>659</th>\n",
       "      <td>17</td>\n",
       "      <td>Per Capita GSDP (Rs.)</td>\n",
       "      <td>89607</td>\n",
       "      <td>Nagaland</td>\n",
       "      <td>c3</td>\n",
       "    </tr>\n",
       "    <tr>\n",
       "      <th>197</th>\n",
       "      <td>17</td>\n",
       "      <td>Per Capita GSDP (Rs.)</td>\n",
       "      <td>86860</td>\n",
       "      <td>Chhattisgarh</td>\n",
       "      <td>c3</td>\n",
       "    </tr>\n",
       "    <tr>\n",
       "      <th>791</th>\n",
       "      <td>17</td>\n",
       "      <td>Per Capita GSDP (Rs.)</td>\n",
       "      <td>84837</td>\n",
       "      <td>Rajasthan</td>\n",
       "      <td>c3</td>\n",
       "    </tr>\n",
       "    <tr>\n",
       "      <th>923</th>\n",
       "      <td>17</td>\n",
       "      <td>Per Capita GSDP (Rs.)</td>\n",
       "      <td>77358</td>\n",
       "      <td>Tripura</td>\n",
       "      <td>c3</td>\n",
       "    </tr>\n",
       "    <tr>\n",
       "      <th>593</th>\n",
       "      <td>17</td>\n",
       "      <td>Per Capita GSDP (Rs.)</td>\n",
       "      <td>76228</td>\n",
       "      <td>Meghalaya</td>\n",
       "      <td>c3</td>\n",
       "    </tr>\n",
       "    <tr>\n",
       "      <th>692</th>\n",
       "      <td>17</td>\n",
       "      <td>Per Capita GSDP (Rs.)</td>\n",
       "      <td>73979</td>\n",
       "      <td>Odisha</td>\n",
       "      <td>c3</td>\n",
       "    </tr>\n",
       "  </tbody>\n",
       "</table>\n",
       "</div>"
      ],
      "text/plain": [
       "      S.No.                   Item  2014-15           State Category\n",
       "Index                                                               \n",
       "32       17  Per Capita GSDP (Rs.)   104977  Andhra_Pradesh       c3\n",
       "626      17  Per Capita GSDP (Rs.)    97687         Mizoram       c3\n",
       "659      17  Per Capita GSDP (Rs.)    89607        Nagaland       c3\n",
       "197      17  Per Capita GSDP (Rs.)    86860    Chhattisgarh       c3\n",
       "791      17  Per Capita GSDP (Rs.)    84837       Rajasthan       c3\n",
       "923      17  Per Capita GSDP (Rs.)    77358         Tripura       c3\n",
       "593      17  Per Capita GSDP (Rs.)    76228       Meghalaya       c3\n",
       "692      17  Per Capita GSDP (Rs.)    73979          Odisha       c3"
      ]
     },
     "execution_count": 125,
     "metadata": {},
     "output_type": "execute_result"
    }
   ],
   "source": [
    "# For C3 category\n",
    "\n",
    "gsva_per_cap.loc[gsva_per_cap['Category']=='c3']\n",
    "\n",
    "# so, the states which are in category C3 are\n",
    "# \"Andhra Pradesh\",\"Mizoram\",\"Nagaland\", \"Chhattisgarh\", \"Rajasthan\" ,\"Tripura\", \"Meghalaya\"\n",
    "# and \"Odisha\""
   ]
  },
  {
   "cell_type": "code",
   "execution_count": 126,
   "metadata": {},
   "outputs": [
    {
     "data": {
      "text/html": [
       "<div>\n",
       "<style scoped>\n",
       "    .dataframe tbody tr th:only-of-type {\n",
       "        vertical-align: middle;\n",
       "    }\n",
       "\n",
       "    .dataframe tbody tr th {\n",
       "        vertical-align: top;\n",
       "    }\n",
       "\n",
       "    .dataframe thead th {\n",
       "        text-align: right;\n",
       "    }\n",
       "</style>\n",
       "<table border=\"1\" class=\"dataframe\">\n",
       "  <thead>\n",
       "    <tr style=\"text-align: right;\">\n",
       "      <th></th>\n",
       "      <th>S.No.</th>\n",
       "      <th>Item</th>\n",
       "      <th>2014-15</th>\n",
       "      <th>State</th>\n",
       "      <th>Category</th>\n",
       "    </tr>\n",
       "    <tr>\n",
       "      <th>Index</th>\n",
       "      <th></th>\n",
       "      <th></th>\n",
       "      <th></th>\n",
       "      <th></th>\n",
       "      <th></th>\n",
       "    </tr>\n",
       "  </thead>\n",
       "  <tbody>\n",
       "    <tr>\n",
       "      <th>494</th>\n",
       "      <td>17</td>\n",
       "      <td>Per Capita GSDP (Rs.)</td>\n",
       "      <td>62989</td>\n",
       "      <td>Madhya_Pradesh</td>\n",
       "      <td>c4</td>\n",
       "    </tr>\n",
       "    <tr>\n",
       "      <th>395</th>\n",
       "      <td>17</td>\n",
       "      <td>Per Capita GSDP (Rs.)</td>\n",
       "      <td>62091</td>\n",
       "      <td>Jharkhand</td>\n",
       "      <td>c4</td>\n",
       "    </tr>\n",
       "    <tr>\n",
       "      <th>98</th>\n",
       "      <td>17</td>\n",
       "      <td>Per Capita GSDP (Rs.)</td>\n",
       "      <td>60621</td>\n",
       "      <td>Assam</td>\n",
       "      <td>c4</td>\n",
       "    </tr>\n",
       "    <tr>\n",
       "      <th>560</th>\n",
       "      <td>17</td>\n",
       "      <td>Per Capita GSDP (Rs.)</td>\n",
       "      <td>58442</td>\n",
       "      <td>Manipur</td>\n",
       "      <td>c4</td>\n",
       "    </tr>\n",
       "    <tr>\n",
       "      <th>989</th>\n",
       "      <td>17</td>\n",
       "      <td>Per Capita GSDP (Rs.)</td>\n",
       "      <td>49450</td>\n",
       "      <td>Uttar_Pradesh</td>\n",
       "      <td>c4</td>\n",
       "    </tr>\n",
       "    <tr>\n",
       "      <th>131</th>\n",
       "      <td>17</td>\n",
       "      <td>Per Capita GSDP (Rs.)</td>\n",
       "      <td>33954</td>\n",
       "      <td>Bihar</td>\n",
       "      <td>c4</td>\n",
       "    </tr>\n",
       "  </tbody>\n",
       "</table>\n",
       "</div>"
      ],
      "text/plain": [
       "      S.No.                   Item  2014-15           State Category\n",
       "Index                                                               \n",
       "494      17  Per Capita GSDP (Rs.)    62989  Madhya_Pradesh       c4\n",
       "395      17  Per Capita GSDP (Rs.)    62091       Jharkhand       c4\n",
       "98       17  Per Capita GSDP (Rs.)    60621           Assam       c4\n",
       "560      17  Per Capita GSDP (Rs.)    58442         Manipur       c4\n",
       "989      17  Per Capita GSDP (Rs.)    49450   Uttar_Pradesh       c4\n",
       "131      17  Per Capita GSDP (Rs.)    33954           Bihar       c4"
      ]
     },
     "execution_count": 126,
     "metadata": {},
     "output_type": "execute_result"
    }
   ],
   "source": [
    "# For C4 category\n",
    "\n",
    "gsva_per_cap.loc[gsva_per_cap['Category']=='c4']\n",
    "\n",
    "# so, the states which are in category C4 are\n",
    "# \"Madhya Pradesh\",\"Jharkhand\",\"Assam\", \"Manipur\", \"Uttar_Pradesh\" and \"Bihar\""
   ]
  },
  {
   "cell_type": "code",
   "execution_count": 127,
   "metadata": {},
   "outputs": [
    {
     "data": {
      "text/html": [
       "<div>\n",
       "<style scoped>\n",
       "    .dataframe tbody tr th:only-of-type {\n",
       "        vertical-align: middle;\n",
       "    }\n",
       "\n",
       "    .dataframe tbody tr th {\n",
       "        vertical-align: top;\n",
       "    }\n",
       "\n",
       "    .dataframe thead th {\n",
       "        text-align: right;\n",
       "    }\n",
       "</style>\n",
       "<table border=\"1\" class=\"dataframe\">\n",
       "  <thead>\n",
       "    <tr style=\"text-align: right;\">\n",
       "      <th></th>\n",
       "      <th>S.No.</th>\n",
       "      <th>Item</th>\n",
       "      <th>2014-15</th>\n",
       "      <th>State</th>\n",
       "    </tr>\n",
       "    <tr>\n",
       "      <th>Index</th>\n",
       "      <th></th>\n",
       "      <th></th>\n",
       "      <th></th>\n",
       "      <th></th>\n",
       "    </tr>\n",
       "  </thead>\n",
       "  <tbody>\n",
       "    <tr>\n",
       "      <th>0</th>\n",
       "      <td>1</td>\n",
       "      <td>Agriculture, forestry and fishing</td>\n",
       "      <td>14819416</td>\n",
       "      <td>Andhra_Pradesh</td>\n",
       "    </tr>\n",
       "    <tr>\n",
       "      <th>5</th>\n",
       "      <td>2</td>\n",
       "      <td>Mining and quarrying</td>\n",
       "      <td>1484300</td>\n",
       "      <td>Andhra_Pradesh</td>\n",
       "    </tr>\n",
       "    <tr>\n",
       "      <th>7</th>\n",
       "      <td>3</td>\n",
       "      <td>Manufacturing</td>\n",
       "      <td>4672266</td>\n",
       "      <td>Andhra_Pradesh</td>\n",
       "    </tr>\n",
       "    <tr>\n",
       "      <th>8</th>\n",
       "      <td>4</td>\n",
       "      <td>Electricity, gas, water supply &amp; other utility...</td>\n",
       "      <td>1151729</td>\n",
       "      <td>Andhra_Pradesh</td>\n",
       "    </tr>\n",
       "    <tr>\n",
       "      <th>9</th>\n",
       "      <td>5</td>\n",
       "      <td>Construction</td>\n",
       "      <td>4664889</td>\n",
       "      <td>Andhra_Pradesh</td>\n",
       "    </tr>\n",
       "  </tbody>\n",
       "</table>\n",
       "</div>"
      ],
      "text/plain": [
       "      S.No.                                               Item   2014-15  \\\n",
       "Index                                                                      \n",
       "0         1                  Agriculture, forestry and fishing  14819416   \n",
       "5         2                               Mining and quarrying   1484300   \n",
       "7         3                                      Manufacturing   4672266   \n",
       "8         4  Electricity, gas, water supply & other utility...   1151729   \n",
       "9         5                                       Construction   4664889   \n",
       "\n",
       "                State  \n",
       "Index                  \n",
       "0      Andhra_Pradesh  \n",
       "5      Andhra_Pradesh  \n",
       "7      Andhra_Pradesh  \n",
       "8      Andhra_Pradesh  \n",
       "9      Andhra_Pradesh  "
      ]
     },
     "execution_count": 127,
     "metadata": {},
     "output_type": "execute_result"
    }
   ],
   "source": [
    "# Removing sectors and sub-sub-sectors and keeping sub-sector and GSDP in the dataframe\n",
    "\n",
    "sec_drop=gsva_1\n",
    "\n",
    "delete=[\"TOTAL GSVA at basic prices\",\"Tertiary\",\"Secondary\",\"Primary\",\n",
    "        \"Per Capita GSDP (Rs.)\",\"Population ('00)\",\"Taxes on Products\",\"Subsidies on products\"]\n",
    "\n",
    "for i in range(len(delete)):\n",
    "    sec_drop=sec_drop.drop(sec_drop[sec_drop.loc[:,'Item']==delete[i]].index)\n",
    "    \n",
    "delete1=[\"1.1\",\"1.2\",\"1.3\",\"1.4\",\"6.1\",\"6.2\",\"7.1\",\"7.2\",\"7.3\",\"7.4\",\"7.5\",\"7.6\",\"7.7\"]\n",
    "\n",
    "for i in range(len(delete1)):\n",
    "    sec_drop=sec_drop.drop(sec_drop[sec_drop.loc[:,'S.No.']==delete1[i]].index)\n",
    "    \n",
    "sec_drop.head()   \n"
   ]
  },
  {
   "cell_type": "code",
   "execution_count": 128,
   "metadata": {},
   "outputs": [
    {
     "data": {
      "text/plain": [
       "[Index\n",
       " 1    Real estate, ownership of dwelling & professio...\n",
       " 2                    Agriculture, forestry and fishing\n",
       " 3                Trade, repair, hotels and restaurants\n",
       " 4                                        Manufacturing\n",
       " 5                                         Construction\n",
       " 6                                       Other services\n",
       " 7    Transport, storage, communication & services r...\n",
       " Name: Item, dtype: object]"
      ]
     },
     "execution_count": 128,
     "metadata": {},
     "output_type": "execute_result"
    }
   ],
   "source": [
    "# For C1 category the top sub-sectors contribute to approx. 80% of the GDP\n",
    "\n",
    "# Taking all the values for C1 category and sorting it\n",
    "\n",
    "region=[\"Goa\",\"Sikkim\",\"Haryana\",\"Kerala\"]\n",
    "c1_cat=[]\n",
    "for i in range(len(region)):\n",
    "    c1_cat.append(sec_drop.loc[sec_drop['State']==region[i]])\n",
    "c1_cat=pd.concat(c1_cat)\n",
    "c1_cat.sort_values(by='Item',inplace=True)\n",
    "\n",
    "# Now, grouping the sub-sectors and indexing and then calulating the %contribution for this sub-sector\n",
    "\n",
    "grouping=c1_cat.groupby(by=['Item'])\n",
    "c1_category=grouping.sum().sort_values('2014-15',ascending=False)\n",
    "c1_category['Item']=c1_category.index\n",
    "c1_category['Index']=range(len(c1_category))\n",
    "c1_category.set_index('Index',inplace=True)\n",
    "c1_category[\"%contribution\"]=round(c1_category.loc[:,'2014-15']/c1_category.loc[0,'2014-15']*100,2)\n",
    "c1_category=c1_category.iloc[1:,]\n",
    "\n",
    "# Lastly our data is created where we can find the top sub-sectors \n",
    "# which are contributing approx. 80% to the GSDP in this sector\n",
    "\n",
    "top_sub_sectors_c1=[]\n",
    "for i in range(len(c1_category)):\n",
    "    if c1_category.loc[:i+1,\"%contribution\"].sum()>=79 and c1_category.loc[:i+1,\"%contribution\"].sum()<=82:\n",
    "        top_sub_sectors_c1.append(c1_category.loc[:i+1,\"Item\"])\n",
    "\n",
    "top_sub_sectors_c1\n",
    "\n"
   ]
  },
  {
   "cell_type": "markdown",
   "metadata": {},
   "source": [
    "**Top sub-sectors(C1 Category)=> \"Real estate, ownership of dwelling & professional services\" ,\n",
    "                               \"Agriculture, forestry and fishing\",\n",
    "                               \"Trade, repair, hotels and restaurants\",\"Manufacturing\",\"Construction\",\"Other services\"\n",
    "                               and \"Transport, storage, communication & services related to broadcasting\"**"
   ]
  },
  {
   "cell_type": "code",
   "execution_count": 129,
   "metadata": {},
   "outputs": [
    {
     "data": {
      "text/plain": [
       "[Index\n",
       " 1                                        Manufacturing\n",
       " 2    Real estate, ownership of dwelling & professio...\n",
       " 3                    Agriculture, forestry and fishing\n",
       " 4                Trade, repair, hotels and restaurants\n",
       " 5                                   Financial services\n",
       " 6                                       Other services\n",
       " 7                                         Construction\n",
       " 8    Transport, storage, communication & services r...\n",
       " Name: Item, dtype: object]"
      ]
     },
     "execution_count": 129,
     "metadata": {},
     "output_type": "execute_result"
    }
   ],
   "source": [
    "\n",
    "# For C2 category the top sectors contribute to approx. 80% of the GDP\n",
    "\n",
    "# Taking all the values for C2 category and sorting it\n",
    "\n",
    "region1=[\"Uttarakhand\",\"Maharashtra\",\"Himachal Pradesh\", \"Tamil Nadu\", \"Karnataka\" ,\"Gujarat\", \"Telangana\"\n",
    "         \"Punjab\" and \"Arunachal Pradesh\"]\n",
    "c2_cat=[]\n",
    "for i in range(len(region)):\n",
    "    c2_cat.append(sec_drop.loc[sec_drop['State']==region1[i]])\n",
    "c2_cat=pd.concat(c2_cat)\n",
    "c2_cat.sort_values(by='Item',inplace=True)\n",
    "\n",
    "# Now, grouping the sub-sectors and indexing and then calulating the %contribution for this sub-sector\n",
    "\n",
    "grouping=c2_cat.groupby(by=['Item'])\n",
    "c2_category=grouping.sum().sort_values('2014-15',ascending=False)\n",
    "c2_category['Item']=c2_category.index\n",
    "c2_category['Index']=range(len(c2_category))\n",
    "c2_category.set_index('Index',inplace=True)\n",
    "c2_category[\"%contribution\"]=round(c2_category.loc[:,'2014-15']/c2_category.loc[0,'2014-15']*100,2)\n",
    "c2_category=c2_category.iloc[1:,]\n",
    "\n",
    "\n",
    "# Lastly our data is created where we can find the top sub-sectors \n",
    "# which are contributing approx. 80% to the GSDP in this sector\n",
    "\n",
    "top_sub_sectors_c2=[]\n",
    "for i in range(len(c2_category)):\n",
    "    if c2_category.loc[:i+1,\"%contribution\"].sum()>=79 and c2_category.loc[:i+1,\"%contribution\"].sum()<=81:\n",
    "        top_sub_sectors_c2.append(c2_category.loc[:i+1,\"Item\"])\n",
    "\n",
    "top_sub_sectors_c2\n",
    "\n",
    "\n"
   ]
  },
  {
   "cell_type": "markdown",
   "metadata": {},
   "source": [
    "**Top sub-sectors(C2 Category)=> \"Manufacturing\" , \"Real estate, ownership of dwelling & professional services\" , \"Agriculture, forestry and fishing\", \"Trade, repair, hotels and restaurants\", \"Financial services\", \"Other services\", \"Construction\" and \"Transport, storage, communication & services related to broadcasting\"**"
   ]
  },
  {
   "cell_type": "code",
   "execution_count": 130,
   "metadata": {
    "scrolled": true
   },
   "outputs": [
    {
     "data": {
      "text/plain": [
       "[Index\n",
       " 1                    Agriculture, forestry and fishing\n",
       " 2                                        Manufacturing\n",
       " 3                                         Construction\n",
       " 4    Real estate, ownership of dwelling & professio...\n",
       " 5                                 Mining and quarrying\n",
       " 6                Trade, repair, hotels and restaurants\n",
       " 7                                       Other services\n",
       " 8                                Public administration\n",
       " Name: Item, dtype: object]"
      ]
     },
     "execution_count": 130,
     "metadata": {},
     "output_type": "execute_result"
    }
   ],
   "source": [
    "# For C3 category the top sectors contribute to approx. 80% of the GDP\n",
    "\n",
    "# Taking all the values for C3 category and sorting it\n",
    "\n",
    "region2=[\"Andhra Pradesh\",\"Mizoram\",\"Nagaland\", \"Chhattisgarh\", \"Rajasthan\" ,\"Tripura\", \"Meghalaya\"]\n",
    "c3_cat=[]\n",
    "for i in range(len(region)):\n",
    "    c3_cat.append(sec_drop.loc[sec_drop['State']==region2[i]])\n",
    "c3_cat=pd.concat(c3_cat)\n",
    "c3_cat.sort_values(by='Item',inplace=True)\n",
    "\n",
    "# Now, grouping the sub-sectors and indexing and then calulating the %contribution for this sub-sector\n",
    "\n",
    "grouping=c3_cat.groupby(by=['Item'])\n",
    "c3_category=grouping.sum().sort_values('2014-15',ascending=False)\n",
    "c3_category['Item']=c3_category.index\n",
    "c3_category['Index']=range(len(c3_category))\n",
    "c3_category.set_index('Index',inplace=True)\n",
    "c3_category[\"%contribution\"]=round(c3_category.loc[:,'2014-15']/c3_category.loc[0,'2014-15']*100,2)\n",
    "c3_category=c3_category.iloc[1:,]\n",
    "\n",
    "# Lastly our data is created where we can find the top sub-sectors \n",
    "# which are contributing approx. 80% to the GSDP in this sector\n",
    "\n",
    "top_sub_sectors_c3=[]\n",
    "for i in range(len(c3_category)):\n",
    "    if c3_category.loc[:i+1,\"%contribution\"].sum()>=79 and c3_category.loc[:i+1,\"%contribution\"].sum()<=84:\n",
    "        top_sub_sectors_c3.append(c3_category.loc[:i+1,\"Item\"])\n",
    "\n",
    "top_sub_sectors_c3\n",
    "\n"
   ]
  },
  {
   "cell_type": "markdown",
   "metadata": {},
   "source": [
    "**Top sub-sectors(C3 Category)=> \"Agriculture, forestry and fishing\", \"Manufacturing\" ,\"Construction\", \"Real estate, ownership of dwelling & professional services\", \"Mining and quarrying\" , \"Trade, repair, hotels and restaurants\", \"Other services\",  and \"Public administration\"**"
   ]
  },
  {
   "cell_type": "code",
   "execution_count": 131,
   "metadata": {},
   "outputs": [
    {
     "data": {
      "text/plain": [
       "[Index\n",
       " 1                    Agriculture, forestry and fishing\n",
       " 2                                        Manufacturing\n",
       " 3                Trade, repair, hotels and restaurants\n",
       " 4                                         Construction\n",
       " 5                                 Mining and quarrying\n",
       " 6                                       Other services\n",
       " 7    Real estate, ownership of dwelling & professio...\n",
       " 8    Transport, storage, communication & services r...\n",
       " Name: Item, dtype: object]"
      ]
     },
     "execution_count": 131,
     "metadata": {},
     "output_type": "execute_result"
    }
   ],
   "source": [
    "# For C4 category the top sectors contribute to approx. 80% of the GDP\n",
    "\n",
    "# Taking all the values for C4 category and sorting it\n",
    "\n",
    "region3=[\"Madhya Pradesh\",\"Jharkhand\",\"Assam\", \"Manipur\", \"Uttar_Pradesh\" and \"Bihar\"]\n",
    "c4_cat=[]\n",
    "for i in range(len(region)):\n",
    "    c4_cat.append(sec_drop.loc[sec_drop['State']==region3[i]])\n",
    "c4_cat=pd.concat(c4_cat)\n",
    "c4_cat.sort_values(by='Item',inplace=True)\n",
    "\n",
    "# Now, grouping the sub-sectors and indexing and then calulating the %contribution for this sub-sector\n",
    "\n",
    "grouping=c4_cat.groupby(by=['Item'])\n",
    "c4_category=grouping.sum().sort_values('2014-15',ascending=False)\n",
    "c4_category['Item']=c4_category.index\n",
    "c4_category['Index']=range(len(c4_category))\n",
    "c4_category.set_index('Index',inplace=True)\n",
    "c4_category[\"%contribution\"]=round(c4_category.loc[:,'2014-15']/c4_category.loc[0,'2014-15']*100,2)\n",
    "c4_category=c4_category.iloc[1:,]\n",
    "\n",
    "# Lastly our data is created where we can find the top sub-sectors \n",
    "# which are contributing approx. 80% to the GSDP in this sector\n",
    "\n",
    "top_sub_sectors_c4=[]\n",
    "for i in range(len(c4_category)):\n",
    "    if c4_category.loc[:i+1,\"%contribution\"].sum()>=79 and c4_category.loc[:i+1,\"%contribution\"].sum()<=82:\n",
    "        top_sub_sectors_c4.append(c4_category.loc[:i+1,\"Item\"])\n",
    "\n",
    "top_sub_sectors_c4\n",
    "\n"
   ]
  },
  {
   "cell_type": "markdown",
   "metadata": {},
   "source": [
    "**Top sub-sectors(C4 Category)=> Agriculture, forestry and fishing\", \"Manufacturing\", \"Trade, repair, hotels and restaurants\", \"Construction\", \"Mining and quarrying\", \"Other services\", \"Real estate, ownership of dwelling & professional services\" and \"Transport, storage, communication & services related to broadcasting\"**"
   ]
  },
  {
   "cell_type": "code",
   "execution_count": 132,
   "metadata": {},
   "outputs": [
    {
     "data": {
      "image/png": "[encoded data removed]",
      "text/plain": [
       "<Figure size 1440x1080 with 1 Axes>"
      ]
     },
     "metadata": {},
     "output_type": "display_data"
    }
   ],
   "source": [
    "# Plotting the contribution of the sub-sectors as a percentage of the GSDP of category\n",
    "\n",
    "# Combining all categories in one dataframe and sorting\n",
    "\n",
    "c1_category[\"category\"]=\"C1\"\n",
    "c2_category[\"category\"]=\"C2\"\n",
    "c3_category[\"category\"]=\"C3\"\n",
    "c4_category[\"category\"]=\"C4\"\n",
    "gsdp_cat=pd.concat((c1_category,c2_category,c3_category,c4_category))\n",
    "gsdp_cat.columns='2014-15','Sub-Sector','%Contribution','Category'\n",
    "gsdp_cat=gsdp_cat.sort_values(by=['Category','%Contribution',])\n",
    "\n",
    "# Setting gridlines,context and size of the figure\n",
    "\n",
    "sns.set_style(\"whitegrid\")\n",
    "sns.set_context('talk')\n",
    "plt.figure(figsize=(20,15))\n",
    "plt.rcParams[\"axes.labelsize\"] = 25\n",
    "plt.rcParams['axes.titlesize'] = 25\n",
    "plt.rcParams['axes.titlepad'] = 80\n",
    "\n",
    "\n",
    "# Using barplot for categorical visualisation\n",
    "\n",
    "sns.barplot(x='Category',y='%Contribution',hue='Sub-Sector',data=gsdp_cat,palette='nipy_spectral_r')\n",
    "plt.xticks(rotation=0)\n",
    "\n",
    "# Setting labels for x-axis, y-axis and title\n",
    "\n",
    "plt.xlabel(\"Category\")\n",
    "plt.ylabel(\"% GSDP Contribution\")\n",
    "plt.title(\"Sub-Sectors vs (%) GSDP Contribution\",loc='center')\n",
    "plt.yticks(np.arange(0,40,5))\n",
    "\n",
    "\n",
    "plt.show()"
   ]
  },
  {
   "cell_type": "markdown",
   "metadata": {},
   "source": [
    "**Questions and Answers:**"
   ]
  },
  {
   "cell_type": "markdown",
   "metadata": {},
   "source": [
    "**1: How does the GDP distribution of the top states(C1) differ from the others?**\n",
    "\n"
   ]
  },
  {
   "cell_type": "markdown",
   "metadata": {},
   "source": [
    "As we can see from the above plot for the top sector(C1), few sub-sectors('Manufacturing','Trade,repair,hotels and resturants', 'Agriculture, forestry and fishing' and 'Real estate, ownership of dwelling & professional services') are contributing approximately the same percentage unlike with the others categories they are not consistent."
   ]
  },
  {
   "cell_type": "markdown",
   "metadata": {},
   "source": [
    "**2: Which sub-sectors seem to be correlated with high GDP?**"
   ]
  },
  {
   "cell_type": "markdown",
   "metadata": {},
   "source": [
    "From the above graph, we can see some of the sub-sectors which to be correlated with high GDP, they are \"Manufacturing\" and \"Real estate, ownership of dwelling & professional services\".\n"
   ]
  },
  {
   "cell_type": "markdown",
   "metadata": {},
   "source": [
    "**3. Which sub-sectors do the various categories need to focus on?**"
   ]
  },
  {
   "cell_type": "markdown",
   "metadata": {},
   "source": [
    "Taking reference from the above plot the sub-sectors from various categories need to focus on are \"Electricity, gas, water supply & other utility services\", \"Mining and quarrying\", \"Public administration\" and \"Financial services\""
   ]
  },
  {
   "cell_type": "markdown",
   "metadata": {},
   "source": [
    "**4. Consider each of the category and share your thoughts of which sub-sectors is necessary or possible to improve if we are intend to?**"
   ]
  },
  {
   "cell_type": "markdown",
   "metadata": {},
   "source": [
    "Since \"Real estate, ownership of dwelling & professional services\",\"Agriculture, forestry and fishing\", \"Manufacturing Sector\" and \"Trade, repair, hotels and restaurants\" are growing, and these sub-sectors \"Transport, storage, communication & services related to broadcasting\" and \"Other services\" are not contributing in same pace.\n",
    "so we can think of them to improve."
   ]
  },
  {
   "cell_type": "markdown",
   "metadata": {},
   "source": [
    "**Recommendations for each category to improve the per capita GDP**"
   ]
  },
  {
   "cell_type": "markdown",
   "metadata": {},
   "source": [
    "**C1: Firstly**, we should increase the productivity in \"Mining and quarrying\" and \"Electricity, gas, water supply & other utility services\".\n",
    "    From the graph it is clearly showing that we are ignoring these sub-sectors values which will ultimately yield to boost the per capita GDP if we take care.     \n",
    " **Secondly**, Since this is Top_category, We can easily think to improve the sub-sectors \"Financial services\" and \"Transport, \"storage, communication & services related to broadcasting\" and \"Other services\"."
   ]
  },
  {
   "cell_type": "markdown",
   "metadata": {},
   "source": [
    "**C2: Firstly**, This is the only category where %contribution GSDP of \"Agriculture\" is less than 10%, As India's primary sector is \"Agriculture\", we should keep this in mind to improve.       \n",
    "**Secondly**, also we need to keep focus on  \"Electricity, gas, water supply & other utility services\", \"Mining and quarrying\" and \"Public administration\" as this category produces high GDP."
   ]
  },
  {
   "cell_type": "markdown",
   "metadata": {},
   "source": [
    "**C3: Firstly**, The Sub-Sectors \"Financial services\" and \"Transport, storage, communication & services related to broadcasting\" are pretty bad. We should never let these Sub-Sectors goes below 10%. Since all the other Sub-Sectors are in par we can think to improve these and eventually it will boost the per capita GDP.      \n",
    "**Secondly**, Sub-Sector \"Trade, repair, hotels and restaurants\" is also less compared to the other categories. Since we have good contribution from \"Manufacturing\" Sub-Sector, We can develop this easily by modernizing the region which are in this category. "
   ]
  },
  {
   "cell_type": "markdown",
   "metadata": {},
   "source": [
    "**C4: Firstly**, This is the only category where the Sub-Sector \"Real estate, ownership of dwelling & professional services\" is less than 10% and \"Agriculture, forestry and fishing\" is doing good, which means most of the regions are rural areas. \n",
    "    so we can think of improving \"Transport, storage, communication & services related to broadcasting\", \"Other services\" and \"Construction\" which will add good amount of value to the GDP.       \n",
    "    **Secondly** \n",
    "    The Sub-Sectors \"Electricity, gas, water supply & other utility services\" and \"Financial services\" are pretty low when compared with other categories. This is happening due to the low development. We can improve by providing with \"Electricity, gas, water supply & other utility services\" and \"Financial services\"  which will increase the standard of the people living in this category and lead us to the growth of the per capita GDP."
   ]
  },
  {
   "cell_type": "markdown",
   "metadata": {},
   "source": [
    "**------------------------------------------------------------------------------------------------------------------------------------------------------------------------------------------------------------------**"
   ]
  },
  {
   "cell_type": "markdown",
   "metadata": {},
   "source": [
    "# GDP Analysis(Data II)"
   ]
  },
  {
   "cell_type": "code",
   "execution_count": 133,
   "metadata": {},
   "outputs": [],
   "source": [
    "# As said at the top of this notebook all dataset are placed in same path as .ipynb file\n",
    "\n",
    "# file_name: rs_session243_au570_1.1.csv"
   ]
  },
  {
   "cell_type": "code",
   "execution_count": 134,
   "metadata": {},
   "outputs": [],
   "source": [
    "# importing csv files \n",
    "\n",
    "drop_out=pd.read_csv(\"rs_session243_au570_1.1.csv\",engine='python',encoding='ISO-8859-1')\n"
   ]
  },
  {
   "cell_type": "code",
   "execution_count": 135,
   "metadata": {},
   "outputs": [
    {
     "data": {
      "text/plain": [
       "Index(['Sl. No.', 'Level of Education - State', 'Primary - 2012-2013',\n",
       "       'Primary - 2014-2015', 'Primary - 2014-2015.1',\n",
       "       'Upper Primary - 2012-2013', 'Upper Primary - 2013-2014',\n",
       "       'Upper Primary - 2014-2015', 'Secondary - 2012-2013',\n",
       "       'Secondary - 2013-2014', 'Secondary - 2014-2015',\n",
       "       'Senior Secondary - 2012-2013', 'Senior Secondary - 2013-2014',\n",
       "       'Senior Secondary - 2014-2015'],\n",
       "      dtype='object')"
      ]
     },
     "execution_count": 135,
     "metadata": {},
     "output_type": "execute_result"
    }
   ],
   "source": [
    "drop_out.columns"
   ]
  },
  {
   "cell_type": "code",
   "execution_count": 136,
   "metadata": {},
   "outputs": [
    {
     "data": {
      "text/html": [
       "<div>\n",
       "<style scoped>\n",
       "    .dataframe tbody tr th:only-of-type {\n",
       "        vertical-align: middle;\n",
       "    }\n",
       "\n",
       "    .dataframe tbody tr th {\n",
       "        vertical-align: top;\n",
       "    }\n",
       "\n",
       "    .dataframe thead th {\n",
       "        text-align: right;\n",
       "    }\n",
       "</style>\n",
       "<table border=\"1\" class=\"dataframe\">\n",
       "  <thead>\n",
       "    <tr style=\"text-align: right;\">\n",
       "      <th></th>\n",
       "      <th>Sl. No.</th>\n",
       "      <th>Level of Education - State</th>\n",
       "      <th>Primary - 2014-2015</th>\n",
       "      <th>Upper Primary - 2014-2015</th>\n",
       "      <th>Secondary - 2014-2015</th>\n",
       "      <th>Senior Secondary - 2014-2015</th>\n",
       "    </tr>\n",
       "  </thead>\n",
       "  <tbody>\n",
       "    <tr>\n",
       "      <th>0</th>\n",
       "      <td>1</td>\n",
       "      <td>A &amp; N Islands</td>\n",
       "      <td>1.21</td>\n",
       "      <td>1.69</td>\n",
       "      <td>9.87</td>\n",
       "      <td>16.93</td>\n",
       "    </tr>\n",
       "    <tr>\n",
       "      <th>1</th>\n",
       "      <td>2</td>\n",
       "      <td>Andhra Pradesh</td>\n",
       "      <td>4.35</td>\n",
       "      <td>5.20</td>\n",
       "      <td>15.71</td>\n",
       "      <td>NaN</td>\n",
       "    </tr>\n",
       "    <tr>\n",
       "      <th>2</th>\n",
       "      <td>3</td>\n",
       "      <td>Arunachal Pradesh</td>\n",
       "      <td>10.89</td>\n",
       "      <td>6.71</td>\n",
       "      <td>17.11</td>\n",
       "      <td>18.42</td>\n",
       "    </tr>\n",
       "    <tr>\n",
       "      <th>3</th>\n",
       "      <td>4</td>\n",
       "      <td>Assam</td>\n",
       "      <td>7.44</td>\n",
       "      <td>10.51</td>\n",
       "      <td>27.06</td>\n",
       "      <td>NaN</td>\n",
       "    </tr>\n",
       "    <tr>\n",
       "      <th>4</th>\n",
       "      <td>5</td>\n",
       "      <td>Bihar</td>\n",
       "      <td>2.09</td>\n",
       "      <td>4.08</td>\n",
       "      <td>25.90</td>\n",
       "      <td>NaN</td>\n",
       "    </tr>\n",
       "  </tbody>\n",
       "</table>\n",
       "</div>"
      ],
      "text/plain": [
       "  Sl. No. Level of Education - State  Primary - 2014-2015  \\\n",
       "0       1              A & N Islands                 1.21   \n",
       "1       2             Andhra Pradesh                 4.35   \n",
       "2       3          Arunachal Pradesh                10.89   \n",
       "3       4                      Assam                 7.44   \n",
       "4       5                      Bihar                 2.09   \n",
       "\n",
       "   Upper Primary - 2014-2015  Secondary - 2014-2015  \\\n",
       "0                       1.69                   9.87   \n",
       "1                       5.20                  15.71   \n",
       "2                       6.71                  17.11   \n",
       "3                      10.51                  27.06   \n",
       "4                       4.08                  25.90   \n",
       "\n",
       "   Senior Secondary - 2014-2015  \n",
       "0                         16.93  \n",
       "1                           NaN  \n",
       "2                         18.42  \n",
       "3                           NaN  \n",
       "4                           NaN  "
      ]
     },
     "execution_count": 136,
     "metadata": {},
     "output_type": "execute_result"
    }
   ],
   "source": [
    "# Keeping the drop-out rates only for 2014-2015 aand dropping the others\n",
    "\n",
    "drop_out=drop_out.loc[:,~drop_out.columns.isin(['Primary - 2012-2013','Primary - 2014-2015.1','Upper Primary - 2012-2013',\n",
    "                             'Upper Primary - 2013-2014','Secondary - 2012-2013','Secondary - 2013-2014',\n",
    "                             'Senior Secondary - 2012-2013','Senior Secondary - 2013-2014'])]\n",
    "\n",
    "drop_out.head()"
   ]
  },
  {
   "cell_type": "code",
   "execution_count": 137,
   "metadata": {},
   "outputs": [
    {
     "data": {
      "text/plain": [
       "Sl. No.                         0\n",
       "Level of Education - State      0\n",
       "Primary - 2014-2015             4\n",
       "Upper Primary - 2014-2015       2\n",
       "Secondary - 2014-2015           1\n",
       "Senior Secondary - 2014-2015    9\n",
       "dtype: int64"
      ]
     },
     "execution_count": 137,
     "metadata": {},
     "output_type": "execute_result"
    }
   ],
   "source": [
    "# Cleaning the data \n",
    "\n",
    "# Checking the null values in columns\n",
    "\n",
    "drop_out.isnull().sum(axis=0)"
   ]
  },
  {
   "cell_type": "code",
   "execution_count": 138,
   "metadata": {},
   "outputs": [
    {
     "data": {
      "text/html": [
       "<div>\n",
       "<style scoped>\n",
       "    .dataframe tbody tr th:only-of-type {\n",
       "        vertical-align: middle;\n",
       "    }\n",
       "\n",
       "    .dataframe tbody tr th {\n",
       "        vertical-align: top;\n",
       "    }\n",
       "\n",
       "    .dataframe thead th {\n",
       "        text-align: right;\n",
       "    }\n",
       "</style>\n",
       "<table border=\"1\" class=\"dataframe\">\n",
       "  <thead>\n",
       "    <tr style=\"text-align: right;\">\n",
       "      <th></th>\n",
       "      <th>Sl. No.</th>\n",
       "      <th>Level of Education - State</th>\n",
       "      <th>Primary - 2014-2015</th>\n",
       "      <th>Upper Primary - 2014-2015</th>\n",
       "      <th>Secondary - 2014-2015</th>\n",
       "    </tr>\n",
       "  </thead>\n",
       "  <tbody>\n",
       "    <tr>\n",
       "      <th>0</th>\n",
       "      <td>1</td>\n",
       "      <td>A &amp; N Islands</td>\n",
       "      <td>1.21</td>\n",
       "      <td>1.69</td>\n",
       "      <td>9.87</td>\n",
       "    </tr>\n",
       "    <tr>\n",
       "      <th>1</th>\n",
       "      <td>2</td>\n",
       "      <td>Andhra Pradesh</td>\n",
       "      <td>4.35</td>\n",
       "      <td>5.20</td>\n",
       "      <td>15.71</td>\n",
       "    </tr>\n",
       "    <tr>\n",
       "      <th>2</th>\n",
       "      <td>3</td>\n",
       "      <td>Arunachal Pradesh</td>\n",
       "      <td>10.89</td>\n",
       "      <td>6.71</td>\n",
       "      <td>17.11</td>\n",
       "    </tr>\n",
       "    <tr>\n",
       "      <th>3</th>\n",
       "      <td>4</td>\n",
       "      <td>Assam</td>\n",
       "      <td>7.44</td>\n",
       "      <td>10.51</td>\n",
       "      <td>27.06</td>\n",
       "    </tr>\n",
       "    <tr>\n",
       "      <th>4</th>\n",
       "      <td>5</td>\n",
       "      <td>Bihar</td>\n",
       "      <td>2.09</td>\n",
       "      <td>4.08</td>\n",
       "      <td>25.90</td>\n",
       "    </tr>\n",
       "  </tbody>\n",
       "</table>\n",
       "</div>"
      ],
      "text/plain": [
       "  Sl. No. Level of Education - State  Primary - 2014-2015  \\\n",
       "0       1              A & N Islands                 1.21   \n",
       "1       2             Andhra Pradesh                 4.35   \n",
       "2       3          Arunachal Pradesh                10.89   \n",
       "3       4                      Assam                 7.44   \n",
       "4       5                      Bihar                 2.09   \n",
       "\n",
       "   Upper Primary - 2014-2015  Secondary - 2014-2015  \n",
       "0                       1.69                   9.87  \n",
       "1                       5.20                  15.71  \n",
       "2                       6.71                  17.11  \n",
       "3                      10.51                  27.06  \n",
       "4                       4.08                  25.90  "
      ]
     },
     "execution_count": 138,
     "metadata": {},
     "output_type": "execute_result"
    }
   ],
   "source": [
    "# For column \"Senior Secondary - 2014-2015\" there are 9 null values \n",
    "# we can't make any kind of assumptions as our data might give us wrong analysis\n",
    "# so, it's better to remove the column and proceed with the next\n",
    "\n",
    "\n",
    "drop_out=drop_out.loc[:,~drop_out.columns.isin([\"Senior Secondary - 2014-2015\"])]\n",
    "drop_out.head()"
   ]
  },
  {
   "cell_type": "code",
   "execution_count": 139,
   "metadata": {},
   "outputs": [
    {
     "data": {
      "text/plain": [
       "0     False\n",
       "1     False\n",
       "2     False\n",
       "3     False\n",
       "4     False\n",
       "5      True\n",
       "6     False\n",
       "7     False\n",
       "8     False\n",
       "9     False\n",
       "10    False\n",
       "11    False\n",
       "12    False\n",
       "13    False\n",
       "14    False\n",
       "15    False\n",
       "16    False\n",
       "17     True\n",
       "18    False\n",
       "19    False\n",
       "20    False\n",
       "21    False\n",
       "22    False\n",
       "23    False\n",
       "24    False\n",
       "25    False\n",
       "26    False\n",
       "27    False\n",
       "28    False\n",
       "29    False\n",
       "30    False\n",
       "31    False\n",
       "32    False\n",
       "33    False\n",
       "34    False\n",
       "35    False\n",
       "36    False\n",
       "dtype: bool"
      ]
     },
     "execution_count": 139,
     "metadata": {},
     "output_type": "execute_result"
    }
   ],
   "source": [
    "# Checking the rows having null values more than 1\n",
    "\n",
    "drop_out.isnull().sum(axis=1)>1"
   ]
  },
  {
   "cell_type": "code",
   "execution_count": 140,
   "metadata": {},
   "outputs": [],
   "source": [
    "# Dropping the rows having null values more than 1 \n",
    "\n",
    "drop_out=drop_out.loc[drop_out.isnull().sum(axis=1)<=1,:]\n"
   ]
  },
  {
   "cell_type": "code",
   "execution_count": 141,
   "metadata": {},
   "outputs": [
    {
     "data": {
      "text/plain": [
       "Sl. No.                       0\n",
       "Level of Education - State    0\n",
       "Primary - 2014-2015           2\n",
       "Upper Primary - 2014-2015     1\n",
       "Secondary - 2014-2015         0\n",
       "dtype: int64"
      ]
     },
     "execution_count": 141,
     "metadata": {},
     "output_type": "execute_result"
    }
   ],
   "source": [
    "# Checking the null columns after the above execution\n",
    "\n",
    "drop_out.isnull().sum(axis=0)"
   ]
  },
  {
   "cell_type": "code",
   "execution_count": 142,
   "metadata": {},
   "outputs": [
    {
     "data": {
      "text/plain": [
       "count    33.000000\n",
       "mean      4.919394\n",
       "std       4.990541\n",
       "min       0.200000\n",
       "25%       1.210000\n",
       "50%       3.070000\n",
       "75%       7.080000\n",
       "max      19.410000\n",
       "Name: Primary - 2014-2015, dtype: float64"
      ]
     },
     "execution_count": 142,
     "metadata": {},
     "output_type": "execute_result"
    }
   ],
   "source": [
    "# Lets describe the \"Primary - 2014-2015\" column \n",
    "\n",
    "drop_out['Primary - 2014-2015'].describe()"
   ]
  },
  {
   "cell_type": "code",
   "execution_count": 143,
   "metadata": {},
   "outputs": [],
   "source": [
    "# For \"Primary - 2014-2015\" the \"ALl India\" Drop-out rate is 4.34\n",
    "# And the mean of this column is 4.91\n",
    "# As the mean will not affect the All India rates,\n",
    "# It's fine to put the mean value in the null rows of this column\n",
    "\n",
    "\n",
    "drop_out['Primary - 2014-2015']=drop_out['Primary - 2014-2015'].astype(object).fillna(round(4.919394,2))\n",
    "\n"
   ]
  },
  {
   "cell_type": "code",
   "execution_count": 144,
   "metadata": {},
   "outputs": [
    {
     "data": {
      "text/plain": [
       "count    34.000000\n",
       "mean      4.097059\n",
       "std       2.604506\n",
       "min       0.070000\n",
       "25%       2.067500\n",
       "50%       3.935000\n",
       "75%       5.717500\n",
       "max      10.510000\n",
       "Name: Upper Primary - 2014-2015, dtype: float64"
      ]
     },
     "execution_count": 144,
     "metadata": {},
     "output_type": "execute_result"
    }
   ],
   "source": [
    "# Now, describing the 'Upper Primary - 2014-2015' column\n",
    "\n",
    "drop_out['Upper Primary - 2014-2015'].describe()"
   ]
  },
  {
   "cell_type": "code",
   "execution_count": 145,
   "metadata": {},
   "outputs": [],
   "source": [
    "# Same for \"Upper Primary - 2014-2015\" the \"ALl India\" drop-out rate is 4.03\n",
    "# And for the mean of this column is 4.09\n",
    "# so, It's okay to put the mean calue in the null row of this column\n",
    "\n",
    "\n",
    "drop_out['Upper Primary - 2014-2015']=drop_out['Upper Primary - 2014-2015'].astype(object).fillna(round(4.097059,2))"
   ]
  },
  {
   "cell_type": "code",
   "execution_count": 146,
   "metadata": {},
   "outputs": [
    {
     "data": {
      "text/plain": [
       "Sl. No.                       0\n",
       "Level of Education - State    0\n",
       "Primary - 2014-2015           0\n",
       "Upper Primary - 2014-2015     0\n",
       "Secondary - 2014-2015         0\n",
       "dtype: int64"
      ]
     },
     "execution_count": 146,
     "metadata": {},
     "output_type": "execute_result"
    }
   ],
   "source": [
    "# Checking of null values in all the columns\n",
    "\n",
    "drop_out.isnull().sum(axis=0)"
   ]
  },
  {
   "cell_type": "markdown",
   "metadata": {},
   "source": [
    "Now all the null values are removed, lets proceed with our analysis."
   ]
  },
  {
   "cell_type": "markdown",
   "metadata": {},
   "source": [
    "**Analyzing for any coorelation of GDP per capita with dropout rates in education(primary,upper primary and secondary) for year 2014-2015 for the states**"
   ]
  },
  {
   "cell_type": "code",
   "execution_count": 147,
   "metadata": {},
   "outputs": [],
   "source": [
    "gsdp_per_capita=gsva_2[gsva_2[\"Item\"]=='Per Capita GSDP (Rs.)']"
   ]
  },
  {
   "cell_type": "code",
   "execution_count": 148,
   "metadata": {},
   "outputs": [
    {
     "data": {
      "text/html": [
       "<div>\n",
       "<style scoped>\n",
       "    .dataframe tbody tr th:only-of-type {\n",
       "        vertical-align: middle;\n",
       "    }\n",
       "\n",
       "    .dataframe tbody tr th {\n",
       "        vertical-align: top;\n",
       "    }\n",
       "\n",
       "    .dataframe thead th {\n",
       "        text-align: right;\n",
       "    }\n",
       "</style>\n",
       "<table border=\"1\" class=\"dataframe\">\n",
       "  <thead>\n",
       "    <tr style=\"text-align: right;\">\n",
       "      <th></th>\n",
       "      <th>S.No.</th>\n",
       "      <th>Item</th>\n",
       "      <th>2014-15</th>\n",
       "      <th>State</th>\n",
       "    </tr>\n",
       "    <tr>\n",
       "      <th>Index</th>\n",
       "      <th></th>\n",
       "      <th></th>\n",
       "      <th></th>\n",
       "      <th></th>\n",
       "    </tr>\n",
       "  </thead>\n",
       "  <tbody>\n",
       "    <tr>\n",
       "      <th>32</th>\n",
       "      <td>17</td>\n",
       "      <td>Per Capita GSDP (Rs.)</td>\n",
       "      <td>104977.0</td>\n",
       "      <td>Andhra Pradesh</td>\n",
       "    </tr>\n",
       "    <tr>\n",
       "      <th>65</th>\n",
       "      <td>17</td>\n",
       "      <td>Per Capita GSDP (Rs.)</td>\n",
       "      <td>112718.0</td>\n",
       "      <td>Arunachal Pradesh</td>\n",
       "    </tr>\n",
       "    <tr>\n",
       "      <th>98</th>\n",
       "      <td>17</td>\n",
       "      <td>Per Capita GSDP (Rs.)</td>\n",
       "      <td>60621.0</td>\n",
       "      <td>Assam</td>\n",
       "    </tr>\n",
       "    <tr>\n",
       "      <th>131</th>\n",
       "      <td>17</td>\n",
       "      <td>Per Capita GSDP (Rs.)</td>\n",
       "      <td>33954.0</td>\n",
       "      <td>Bihar</td>\n",
       "    </tr>\n",
       "    <tr>\n",
       "      <th>164</th>\n",
       "      <td>17</td>\n",
       "      <td>Per Capita GSDP (Rs.)</td>\n",
       "      <td>250398.0</td>\n",
       "      <td>Chandigarh</td>\n",
       "    </tr>\n",
       "  </tbody>\n",
       "</table>\n",
       "</div>"
      ],
      "text/plain": [
       "      S.No.                   Item   2014-15              State\n",
       "Index                                                          \n",
       "32       17  Per Capita GSDP (Rs.)  104977.0     Andhra Pradesh\n",
       "65       17  Per Capita GSDP (Rs.)  112718.0  Arunachal Pradesh\n",
       "98       17  Per Capita GSDP (Rs.)   60621.0              Assam\n",
       "131      17  Per Capita GSDP (Rs.)   33954.0              Bihar\n",
       "164      17  Per Capita GSDP (Rs.)  250398.0         Chandigarh"
      ]
     },
     "execution_count": 148,
     "metadata": {},
     "output_type": "execute_result"
    }
   ],
   "source": [
    "# Keeping the same format in column 'state' with gsdp_per_capita dataframe and drop_out dataframe\n",
    "\n",
    "gsdp_per_capita1=[]\n",
    "for sp in gsdp_per_capita.loc[:,'State']:\n",
    "    gsdp_per_capita1.append(\" \".join(sp.split(\"_\")))\n",
    "\n",
    "gsdp_per_capita.loc[:,'State']=list(gsdp_per_capita1) \n",
    "\n",
    "gsdp_per_capita.head()\n",
    "\n",
    "\n",
    "\n"
   ]
  },
  {
   "cell_type": "code",
   "execution_count": 149,
   "metadata": {},
   "outputs": [],
   "source": [
    "# Spelling mismatch is there for state Uttarakhand\n",
    "# therefore fixing it\n",
    "\n",
    "drop_out.loc[34,'Level of Education - State']='Uttarakhand'\n",
    "\n",
    "# Renaming the column name for the \"Level of Education - State\" to \"State\" for merging with gsdp_per_capita\n",
    "\n",
    "drop_out.columns=['Sl. No.', 'State', 'Primary - 2014-2015',\n",
    "       'Upper Primary - 2014-2015', 'Secondary - 2014-2015']"
   ]
  },
  {
   "cell_type": "code",
   "execution_count": 150,
   "metadata": {},
   "outputs": [
    {
     "data": {
      "text/html": [
       "<div>\n",
       "<style scoped>\n",
       "    .dataframe tbody tr th:only-of-type {\n",
       "        vertical-align: middle;\n",
       "    }\n",
       "\n",
       "    .dataframe tbody tr th {\n",
       "        vertical-align: top;\n",
       "    }\n",
       "\n",
       "    .dataframe thead th {\n",
       "        text-align: right;\n",
       "    }\n",
       "</style>\n",
       "<table border=\"1\" class=\"dataframe\">\n",
       "  <thead>\n",
       "    <tr style=\"text-align: right;\">\n",
       "      <th></th>\n",
       "      <th>Sl. No.</th>\n",
       "      <th>State</th>\n",
       "      <th>Primary - 2014-2015</th>\n",
       "      <th>Upper Primary - 2014-2015</th>\n",
       "      <th>Secondary - 2014-2015</th>\n",
       "    </tr>\n",
       "  </thead>\n",
       "  <tbody>\n",
       "    <tr>\n",
       "      <th>32</th>\n",
       "      <td>33</td>\n",
       "      <td>Tripura</td>\n",
       "      <td>3.58</td>\n",
       "      <td>1.99</td>\n",
       "      <td>28.42</td>\n",
       "    </tr>\n",
       "    <tr>\n",
       "      <th>33</th>\n",
       "      <td>34</td>\n",
       "      <td>Uttar Pradesh</td>\n",
       "      <td>7.08</td>\n",
       "      <td>2.70</td>\n",
       "      <td>10.22</td>\n",
       "    </tr>\n",
       "    <tr>\n",
       "      <th>34</th>\n",
       "      <td>35</td>\n",
       "      <td>Uttarakhand</td>\n",
       "      <td>3.07</td>\n",
       "      <td>1.19</td>\n",
       "      <td>10.40</td>\n",
       "    </tr>\n",
       "    <tr>\n",
       "      <th>35</th>\n",
       "      <td>36</td>\n",
       "      <td>West Bengal</td>\n",
       "      <td>2.91</td>\n",
       "      <td>4.30</td>\n",
       "      <td>17.80</td>\n",
       "    </tr>\n",
       "    <tr>\n",
       "      <th>36</th>\n",
       "      <td>All India</td>\n",
       "      <td>All India</td>\n",
       "      <td>4.34</td>\n",
       "      <td>4.03</td>\n",
       "      <td>17.06</td>\n",
       "    </tr>\n",
       "  </tbody>\n",
       "</table>\n",
       "</div>"
      ],
      "text/plain": [
       "      Sl. No.          State  Primary - 2014-2015  Upper Primary - 2014-2015  \\\n",
       "32         33        Tripura                 3.58                       1.99   \n",
       "33         34  Uttar Pradesh                 7.08                       2.70   \n",
       "34         35    Uttarakhand                 3.07                       1.19   \n",
       "35         36    West Bengal                 2.91                       4.30   \n",
       "36  All India      All India                 4.34                       4.03   \n",
       "\n",
       "    Secondary - 2014-2015  \n",
       "32                  28.42  \n",
       "33                  10.22  \n",
       "34                  10.40  \n",
       "35                  17.80  \n",
       "36                  17.06  "
      ]
     },
     "execution_count": 150,
     "metadata": {},
     "output_type": "execute_result"
    }
   ],
   "source": [
    "drop_out.tail()"
   ]
  },
  {
   "cell_type": "code",
   "execution_count": 151,
   "metadata": {},
   "outputs": [
    {
     "data": {
      "text/html": [
       "<div>\n",
       "<style scoped>\n",
       "    .dataframe tbody tr th:only-of-type {\n",
       "        vertical-align: middle;\n",
       "    }\n",
       "\n",
       "    .dataframe tbody tr th {\n",
       "        vertical-align: top;\n",
       "    }\n",
       "\n",
       "    .dataframe thead th {\n",
       "        text-align: right;\n",
       "    }\n",
       "</style>\n",
       "<table border=\"1\" class=\"dataframe\">\n",
       "  <thead>\n",
       "    <tr style=\"text-align: right;\">\n",
       "      <th></th>\n",
       "      <th>State</th>\n",
       "      <th>Primary</th>\n",
       "      <th>Upper Primary</th>\n",
       "      <th>Secondary</th>\n",
       "      <th>Per Capita GSDP (Rs.)</th>\n",
       "    </tr>\n",
       "  </thead>\n",
       "  <tbody>\n",
       "    <tr>\n",
       "      <th>0</th>\n",
       "      <td>Andhra Pradesh</td>\n",
       "      <td>4.35</td>\n",
       "      <td>5.20</td>\n",
       "      <td>15.71</td>\n",
       "      <td>104977.0</td>\n",
       "    </tr>\n",
       "    <tr>\n",
       "      <th>1</th>\n",
       "      <td>Arunachal Pradesh</td>\n",
       "      <td>10.89</td>\n",
       "      <td>6.71</td>\n",
       "      <td>17.11</td>\n",
       "      <td>112718.0</td>\n",
       "    </tr>\n",
       "    <tr>\n",
       "      <th>2</th>\n",
       "      <td>Assam</td>\n",
       "      <td>7.44</td>\n",
       "      <td>10.51</td>\n",
       "      <td>27.06</td>\n",
       "      <td>60621.0</td>\n",
       "    </tr>\n",
       "    <tr>\n",
       "      <th>3</th>\n",
       "      <td>Bihar</td>\n",
       "      <td>2.09</td>\n",
       "      <td>4.08</td>\n",
       "      <td>25.90</td>\n",
       "      <td>33954.0</td>\n",
       "    </tr>\n",
       "    <tr>\n",
       "      <th>4</th>\n",
       "      <td>Delhi</td>\n",
       "      <td>4.92</td>\n",
       "      <td>0.76</td>\n",
       "      <td>11.81</td>\n",
       "      <td>274041.0</td>\n",
       "    </tr>\n",
       "  </tbody>\n",
       "</table>\n",
       "</div>"
      ],
      "text/plain": [
       "               State  Primary  Upper Primary  Secondary  Per Capita GSDP (Rs.)\n",
       "0     Andhra Pradesh     4.35           5.20      15.71               104977.0\n",
       "1  Arunachal Pradesh    10.89           6.71      17.11               112718.0\n",
       "2              Assam     7.44          10.51      27.06                60621.0\n",
       "3              Bihar     2.09           4.08      25.90                33954.0\n",
       "4              Delhi     4.92           0.76      11.81               274041.0"
      ]
     },
     "execution_count": 151,
     "metadata": {},
     "output_type": "execute_result"
    }
   ],
   "source": [
    "# Now, merging the \"drop_out\" dataframe with \"gsdp_per_capita\" dataframe.\n",
    "\n",
    "drop_out_per_capita_gsdp=pd.merge(drop_out,gsdp_per_capita,on='State',how='inner')\n",
    "\n",
    " # Removing unnecessary columns('Sl.No.'','S,No.')\n",
    "    \n",
    "drop_out_per_capita_gsdp=drop_out_per_capita_gsdp.loc[:,~drop_out_per_capita_gsdp.columns.isin(['Sl. No.','S.No.','Item'])]\n",
    "\n",
    "# Renaming the column '2014-15' with 'Per Capita GSDP (Rs.)'\n",
    "\n",
    "drop_out_per_capita_gsdp.columns=['State', 'Primary','Upper Primary', 'Secondary','Per Capita GSDP (Rs.)']\n",
    "\n",
    "drop_out_per_capita_gsdp.head()"
   ]
  },
  {
   "cell_type": "code",
   "execution_count": 152,
   "metadata": {},
   "outputs": [
    {
     "data": {
      "text/html": [
       "<div>\n",
       "<style scoped>\n",
       "    .dataframe tbody tr th:only-of-type {\n",
       "        vertical-align: middle;\n",
       "    }\n",
       "\n",
       "    .dataframe tbody tr th {\n",
       "        vertical-align: top;\n",
       "    }\n",
       "\n",
       "    .dataframe thead th {\n",
       "        text-align: right;\n",
       "    }\n",
       "</style>\n",
       "<table border=\"1\" class=\"dataframe\">\n",
       "  <thead>\n",
       "    <tr style=\"text-align: right;\">\n",
       "      <th></th>\n",
       "      <th>Primary</th>\n",
       "      <th>Upper Primary</th>\n",
       "      <th>Secondary</th>\n",
       "      <th>Per Capita GSDP (Rs.)</th>\n",
       "    </tr>\n",
       "  </thead>\n",
       "  <tbody>\n",
       "    <tr>\n",
       "      <th>Primary</th>\n",
       "      <td>1.000000</td>\n",
       "      <td>0.506182</td>\n",
       "      <td>0.310229</td>\n",
       "      <td>-0.575485</td>\n",
       "    </tr>\n",
       "    <tr>\n",
       "      <th>Upper Primary</th>\n",
       "      <td>0.506182</td>\n",
       "      <td>1.000000</td>\n",
       "      <td>0.559915</td>\n",
       "      <td>-0.598291</td>\n",
       "    </tr>\n",
       "    <tr>\n",
       "      <th>Secondary</th>\n",
       "      <td>0.310229</td>\n",
       "      <td>0.559915</td>\n",
       "      <td>1.000000</td>\n",
       "      <td>-0.484811</td>\n",
       "    </tr>\n",
       "    <tr>\n",
       "      <th>Per Capita GSDP (Rs.)</th>\n",
       "      <td>-0.575485</td>\n",
       "      <td>-0.598291</td>\n",
       "      <td>-0.484811</td>\n",
       "      <td>1.000000</td>\n",
       "    </tr>\n",
       "  </tbody>\n",
       "</table>\n",
       "</div>"
      ],
      "text/plain": [
       "                        Primary  Upper Primary  Secondary  \\\n",
       "Primary                1.000000       0.506182   0.310229   \n",
       "Upper Primary          0.506182       1.000000   0.559915   \n",
       "Secondary              0.310229       0.559915   1.000000   \n",
       "Per Capita GSDP (Rs.) -0.575485      -0.598291  -0.484811   \n",
       "\n",
       "                       Per Capita GSDP (Rs.)  \n",
       "Primary                            -0.575485  \n",
       "Upper Primary                      -0.598291  \n",
       "Secondary                          -0.484811  \n",
       "Per Capita GSDP (Rs.)               1.000000  "
      ]
     },
     "execution_count": 152,
     "metadata": {},
     "output_type": "execute_result"
    }
   ],
   "source": [
    "# Now finding the correlation between 'drop out rates' and 'Per Capita GSDP'\n",
    "\n",
    "drp_rate_corr=drop_out_per_capita_gsdp.corr(method='spearman')\n",
    "drp_rate_corr"
   ]
  },
  {
   "cell_type": "code",
   "execution_count": 153,
   "metadata": {
    "scrolled": false
   },
   "outputs": [
    {
     "data": {
      "image/png": "[encoded data removed]",
      "text/plain": [
       "<Figure size 1080x720 with 2 Axes>"
      ]
     },
     "metadata": {},
     "output_type": "display_data"
    }
   ],
   "source": [
    "# Now, plotting the above correlation with heat map as it is the best choice to visulaize\n",
    "\n",
    "# figure size\n",
    "\n",
    "plt.figure(figsize=(15, 10))\n",
    "plt.rcParams['axes.titlesize'] = 25\n",
    "plt.rcParams['axes.titlepad'] = 70\n",
    "\n",
    "# heatmap with a color map of choice\n",
    "\n",
    "sns.heatmap(drp_rate_corr, cmap=\"RdYlGn_r\")\n",
    "\n",
    "plt.title(\"Drop out rates vs Per capita GSDP\")\n",
    "plt.yticks(rotation=0)\n",
    "plt.show()\n",
    "\n"
   ]
  },
  {
   "cell_type": "markdown",
   "metadata": {},
   "source": [
    "From the above heat map we can tell that the drop rates is inversely proportional to the Per capita GSDP. So, if the drop rates are high per capita GSDP will be low and if drop rates are low per capita GSDP will be high. As we can see that for Secondary section which is having a negative value,it is close to the positive mark which means ths **drop rates are high in Secondary section**. Others Primary and Upper primary section is having low drop outs compared to the secondary.\n",
    "\n",
    "**Hence, we can conclude that Drop out rates does affect the per capita GSDP if it is not taken care of.**"
   ]
  },
  {
   "cell_type": "code",
   "execution_count": null,
   "metadata": {},
   "outputs": [],
   "source": []
  }
 ],
 "metadata": {
  "celltoolbar": "Raw Cell Format",
  "kernelspec": {
   "display_name": "Python 3",
   "language": "python",
   "name": "python3"
  },
  "language_info": {
   "codemirror_mode": {
    "name": "ipython",
    "version": 3
   },
   "file_extension": ".py",
   "mimetype": "text/x-python",
   "name": "python",
   "nbconvert_exporter": "python",
   "pygments_lexer": "ipython3",
   "version": "3.7.1"
  }
 },
 "nbformat": 4,
 "nbformat_minor": 2
}
